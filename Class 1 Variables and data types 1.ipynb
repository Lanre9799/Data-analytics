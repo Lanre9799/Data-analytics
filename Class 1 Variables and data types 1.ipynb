{
 "cells": [
  {
   "cell_type": "code",
   "execution_count": 1,
   "id": "f1322d51-81f4-4fa8-95e2-e3e470590635",
   "metadata": {},
   "outputs": [
    {
     "data": {
      "text/plain": [
       "12"
      ]
     },
     "execution_count": 1,
     "metadata": {},
     "output_type": "execute_result"
    }
   ],
   "source": [
    "# numbers\n",
    "# int, float\n",
    "9+3"
   ]
  },
  {
   "cell_type": "code",
   "execution_count": 3,
   "id": "4741f7b2-a88e-4ba6-a184-528867060bbc",
   "metadata": {},
   "outputs": [
    {
     "data": {
      "text/plain": [
       "140723354615608"
      ]
     },
     "execution_count": 3,
     "metadata": {},
     "output_type": "execute_result"
    }
   ],
   "source": [
    "# variable\n",
    "# a variable is a \"container\" for holding the data you work with.\n",
    "# name, value and a data type\n",
    "# name - identifier, value - what you're storing,\n",
    "# data type - how that value is classified\n",
    "\n",
    "# variable must begin with letters, can contain letters, numbers and underscore\n",
    "number1 = 45\n",
    "number2 = 50\n",
    "number3 = 12.07\n",
    "\n",
    "id(number1)"
   ]
  },
  {
   "cell_type": "code",
   "execution_count": 5,
   "id": "238099d7-f4e2-49e6-a149-68ecb5119fe1",
   "metadata": {},
   "outputs": [
    {
     "data": {
      "text/plain": [
       "140723354615768"
      ]
     },
     "execution_count": 5,
     "metadata": {},
     "output_type": "execute_result"
    }
   ],
   "source": [
    "id(number2)"
   ]
  },
  {
   "cell_type": "code",
   "execution_count": 7,
   "id": "517d80f1-8eee-4218-b88c-b66101578517",
   "metadata": {},
   "outputs": [
    {
     "data": {
      "text/plain": [
       "2496205886704"
      ]
     },
     "execution_count": 7,
     "metadata": {},
     "output_type": "execute_result"
    }
   ],
   "source": [
    "id(number3)"
   ]
  },
  {
   "cell_type": "code",
   "execution_count": 11,
   "id": "d55d4a76-7f9d-4a4a-a730-29d03fe8abe9",
   "metadata": {},
   "outputs": [
    {
     "data": {
      "text/plain": [
       "int"
      ]
     },
     "execution_count": 11,
     "metadata": {},
     "output_type": "execute_result"
    }
   ],
   "source": [
    "type(number1)"
   ]
  },
  {
   "cell_type": "code",
   "execution_count": 13,
   "id": "84f4545c-4c96-4d57-b113-a8deeb3d7b40",
   "metadata": {},
   "outputs": [
    {
     "data": {
      "text/plain": [
       "int"
      ]
     },
     "execution_count": 13,
     "metadata": {},
     "output_type": "execute_result"
    }
   ],
   "source": [
    "type(number2)"
   ]
  },
  {
   "cell_type": "code",
   "execution_count": 15,
   "id": "8a7f71b1-ffd0-4974-989d-220d89a18e74",
   "metadata": {},
   "outputs": [
    {
     "data": {
      "text/plain": [
       "float"
      ]
     },
     "execution_count": 15,
     "metadata": {},
     "output_type": "execute_result"
    }
   ],
   "source": [
    "type(number3)"
   ]
  },
  {
   "cell_type": "code",
   "execution_count": 17,
   "id": "3876e10d-65f7-4a8f-95b9-c622ed9b2649",
   "metadata": {},
   "outputs": [
    {
     "data": {
      "text/plain": [
       "3.728251864125932"
      ]
     },
     "execution_count": 17,
     "metadata": {},
     "output_type": "execute_result"
    }
   ],
   "source": [
    "# arithmetics\n",
    "# + - * /\n",
    "number1/number3"
   ]
  },
  {
   "cell_type": "code",
   "execution_count": 21,
   "id": "3e37bdd9-39ee-4251-86cc-650ea8fbc3d7",
   "metadata": {},
   "outputs": [
    {
     "name": "stdout",
     "output_type": "stream",
     "text": [
      "\n",
      "James once said, \"I will be late to work\". His boss replied,\n",
      "\"Don't bother coming\"\n",
      "\n"
     ]
    }
   ],
   "source": [
    "# strings\n",
    "# a string is a sequence of characters\n",
    "# strings are represented using single, double or triple quotes in python\n",
    "firstname = 'David'\n",
    "lastname = \"Jones\"\n",
    "remarks = \"\"\"\n",
    "James once said, \"I will be late to work\". His boss replied,\n",
    "\"Don't bother coming\"\n",
    "\"\"\"\n",
    "print(remarks)"
   ]
  },
  {
   "cell_type": "code",
   "execution_count": 23,
   "id": "603eec63-6ba8-4218-bdae-8afa3791137c",
   "metadata": {},
   "outputs": [
    {
     "data": {
      "text/plain": [
       "'e'"
      ]
     },
     "execution_count": 23,
     "metadata": {},
     "output_type": "execute_result"
    }
   ],
   "source": [
    "# every sequence has an order to it.\n",
    "s='hello'\n",
    "s[1]"
   ]
  },
  {
   "cell_type": "code",
   "execution_count": 25,
   "id": "60d2c250-9c56-4aed-9873-5e0b343e052a",
   "metadata": {},
   "outputs": [
    {
     "data": {
      "text/plain": [
       "5"
      ]
     },
     "execution_count": 25,
     "metadata": {},
     "output_type": "execute_result"
    }
   ],
   "source": [
    "# every item in a sequence has an index position\n",
    "# it begins from 0\n",
    "\n",
    "s='hello'\n",
    "\"\"\"\n",
    "h - position 0\n",
    "e - position 1\n",
    "l - position 2\n",
    "l - position 3\n",
    "o - position 4\n",
    "\"\"\"\n",
    "\n",
    "# slicing  \n",
    "# [ start : stop : step ]\n",
    "# by default, start = 0, stop = len - 1, step = 1\n",
    "# len function returns the number of items in a sequence\n",
    "\n",
    "len(s)"
   ]
  },
  {
   "cell_type": "code",
   "execution_count": 27,
   "id": "010ba2b5-daf6-45ed-abd3-dc4c314d4628",
   "metadata": {},
   "outputs": [
    {
     "data": {
      "text/plain": [
       "'h'"
      ]
     },
     "execution_count": 27,
     "metadata": {},
     "output_type": "execute_result"
    }
   ],
   "source": [
    "s[0]"
   ]
  },
  {
   "cell_type": "code",
   "execution_count": 29,
   "id": "2e59f9d0-e5c9-4d44-b8ad-c6aa44c8d5f8",
   "metadata": {},
   "outputs": [
    {
     "data": {
      "text/plain": [
       "'o'"
      ]
     },
     "execution_count": 29,
     "metadata": {},
     "output_type": "execute_result"
    }
   ],
   "source": [
    "s[4]"
   ]
  },
  {
   "cell_type": "code",
   "execution_count": 31,
   "id": "6fef1c1e-9a56-48fd-8bcb-5569bc5e7aa2",
   "metadata": {},
   "outputs": [
    {
     "ename": "IndexError",
     "evalue": "string index out of range",
     "output_type": "error",
     "traceback": [
      "\u001b[1;31m---------------------------------------------------------------------------\u001b[0m",
      "\u001b[1;31mIndexError\u001b[0m                                Traceback (most recent call last)",
      "Cell \u001b[1;32mIn[31], line 1\u001b[0m\n\u001b[1;32m----> 1\u001b[0m s[\u001b[38;5;241m5\u001b[39m]\n",
      "\u001b[1;31mIndexError\u001b[0m: string index out of range"
     ]
    }
   ],
   "source": [
    "s[5]"
   ]
  },
  {
   "cell_type": "code",
   "execution_count": 33,
   "id": "1f31285f-df78-4c2b-9731-854d3ad2acba",
   "metadata": {},
   "outputs": [
    {
     "data": {
      "text/plain": [
       "'h'"
      ]
     },
     "execution_count": 33,
     "metadata": {},
     "output_type": "execute_result"
    }
   ],
   "source": [
    "s[-5]"
   ]
  },
  {
   "cell_type": "code",
   "execution_count": 37,
   "id": "ac712bb2-5c29-4d61-958c-891ebafbf586",
   "metadata": {},
   "outputs": [
    {
     "data": {
      "text/plain": [
       "'ell'"
      ]
     },
     "execution_count": 37,
     "metadata": {},
     "output_type": "execute_result"
    }
   ],
   "source": [
    "# [start: stop : step]\n",
    "s[1:4]"
   ]
  },
  {
   "cell_type": "code",
   "execution_count": 39,
   "id": "f72a2879-699f-4c99-946f-c4e8d96cf4ea",
   "metadata": {},
   "outputs": [
    {
     "data": {
      "text/plain": [
       "'hello'"
      ]
     },
     "execution_count": 39,
     "metadata": {},
     "output_type": "execute_result"
    }
   ],
   "source": [
    "s"
   ]
  },
  {
   "cell_type": "code",
   "execution_count": 41,
   "id": "e2a960fa-6a38-468c-b84f-ef5c753b82a1",
   "metadata": {},
   "outputs": [
    {
     "data": {
      "text/plain": [
       "'el'"
      ]
     },
     "execution_count": 41,
     "metadata": {},
     "output_type": "execute_result"
    }
   ],
   "source": [
    "s[1:5:2]"
   ]
  },
  {
   "cell_type": "code",
   "execution_count": 43,
   "id": "f5ac759e-d78b-4418-8533-321f17ecbaec",
   "metadata": {},
   "outputs": [],
   "source": [
    "# strings are immutable \n",
    "s = 'hello'"
   ]
  },
  {
   "cell_type": "code",
   "execution_count": 45,
   "id": "1ee6003f-f9c3-4690-9496-f77b3b27ed9b",
   "metadata": {},
   "outputs": [
    {
     "data": {
      "text/plain": [
       "'l'"
      ]
     },
     "execution_count": 45,
     "metadata": {},
     "output_type": "execute_result"
    }
   ],
   "source": [
    "s[2]"
   ]
  },
  {
   "cell_type": "code",
   "execution_count": 47,
   "id": "7c2f2a31-de4f-420a-a57a-8b360f3b516c",
   "metadata": {},
   "outputs": [
    {
     "ename": "TypeError",
     "evalue": "'str' object does not support item assignment",
     "output_type": "error",
     "traceback": [
      "\u001b[1;31m---------------------------------------------------------------------------\u001b[0m",
      "\u001b[1;31mTypeError\u001b[0m                                 Traceback (most recent call last)",
      "Cell \u001b[1;32mIn[47], line 1\u001b[0m\n\u001b[1;32m----> 1\u001b[0m s[\u001b[38;5;241m2\u001b[39m]\u001b[38;5;241m=\u001b[39m \u001b[38;5;124m'\u001b[39m\u001b[38;5;124mp\u001b[39m\u001b[38;5;124m'\u001b[39m\n",
      "\u001b[1;31mTypeError\u001b[0m: 'str' object does not support item assignment"
     ]
    }
   ],
   "source": [
    "s[2]= 'p'"
   ]
  },
  {
   "cell_type": "code",
   "execution_count": 49,
   "id": "4af8aeed-1956-4e35-8c81-6833ef89c064",
   "metadata": {},
   "outputs": [
    {
     "data": {
      "text/plain": [
       "'David'"
      ]
     },
     "execution_count": 49,
     "metadata": {},
     "output_type": "execute_result"
    }
   ],
   "source": [
    "# strings can be concatenated\n",
    "firstname"
   ]
  },
  {
   "cell_type": "code",
   "execution_count": 53,
   "id": "b450d70e-794c-47d9-b7d2-9153c50aee5c",
   "metadata": {},
   "outputs": [
    {
     "data": {
      "text/plain": [
       "'hello David'"
      ]
     },
     "execution_count": 53,
     "metadata": {},
     "output_type": "execute_result"
    }
   ],
   "source": [
    "s + \" \" +firstname"
   ]
  },
  {
   "cell_type": "code",
   "execution_count": 55,
   "id": "e2d231dd-c363-4bde-90ae-57b02151550f",
   "metadata": {},
   "outputs": [
    {
     "data": {
      "text/plain": [
       "95"
      ]
     },
     "execution_count": 55,
     "metadata": {},
     "output_type": "execute_result"
    }
   ],
   "source": [
    "number1 + number2"
   ]
  },
  {
   "cell_type": "code",
   "execution_count": 57,
   "id": "a04810ad-3247-4790-bd7d-8fd54857ffae",
   "metadata": {},
   "outputs": [
    {
     "data": {
      "text/plain": [
       "'DAVID'"
      ]
     },
     "execution_count": 57,
     "metadata": {},
     "output_type": "execute_result"
    }
   ],
   "source": [
    "# built-in methods\n",
    "# upper(), lower(), split()\n",
    "firstname.upper()"
   ]
  },
  {
   "cell_type": "code",
   "execution_count": 59,
   "id": "c540159e-13fb-431e-8f53-e002a3fa6ea4",
   "metadata": {},
   "outputs": [
    {
     "data": {
      "text/plain": [
       "'david'"
      ]
     },
     "execution_count": 59,
     "metadata": {},
     "output_type": "execute_result"
    }
   ],
   "source": [
    "firstname.lower()"
   ]
  },
  {
   "cell_type": "code",
   "execution_count": 61,
   "id": "9888cd0a-1484-46dd-b8d0-d1024150b352",
   "metadata": {},
   "outputs": [
    {
     "data": {
      "text/plain": [
       "'David'"
      ]
     },
     "execution_count": 61,
     "metadata": {},
     "output_type": "execute_result"
    }
   ],
   "source": [
    "firstname.capitalize()"
   ]
  },
  {
   "cell_type": "code",
   "execution_count": 71,
   "id": "e6d0fbb2-1493-4d67-91a7-b10efb160324",
   "metadata": {},
   "outputs": [
    {
     "data": {
      "text/plain": [
       "['I', 'am', 'a', 'strong', 'man']"
      ]
     },
     "execution_count": 71,
     "metadata": {},
     "output_type": "execute_result"
    }
   ],
   "source": [
    "words = 'I am a strong man'\n",
    "words.split()"
   ]
  },
  {
   "cell_type": "code",
   "execution_count": null,
   "id": "8ccb8d84-76af-4ec6-aafe-ed4cabbf4171",
   "metadata": {},
   "outputs": [],
   "source": []
  }
 ],
 "metadata": {
  "kernelspec": {
   "display_name": "Python 3 (ipykernel)",
   "language": "python",
   "name": "python3"
  },
  "language_info": {
   "codemirror_mode": {
    "name": "ipython",
    "version": 3
   },
   "file_extension": ".py",
   "mimetype": "text/x-python",
   "name": "python",
   "nbconvert_exporter": "python",
   "pygments_lexer": "ipython3",
   "version": "3.12.4"
  }
 },
 "nbformat": 4,
 "nbformat_minor": 5
}
