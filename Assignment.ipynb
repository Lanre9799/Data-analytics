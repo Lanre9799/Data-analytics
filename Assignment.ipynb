{
 "cells": [
  {
   "cell_type": "code",
   "execution_count": 20,
   "id": "269016d6-57fe-4c5b-a14a-aa091a3c2e1c",
   "metadata": {},
   "outputs": [
    {
     "name": "stdout",
     "output_type": "stream",
     "text": [
      "6\n"
     ]
    }
   ],
   "source": [
    "#1\n",
    "def lesser_of_two_evens(a,b):\n",
    "    if (a % 2 or b % 2) != 0:\n",
    "        if b > a:\n",
    "            print(b)\n",
    "        else:\n",
    "            print(a)    \n",
    "    elif (a % 2 and b % 2) == 0:\n",
    "        if a < b:\n",
    "            print(a)\n",
    "        else:\n",
    "            print(b)    \n",
    "\n",
    "lesser_of_two_evens(6, 10)"
   ]
  },
  {
   "cell_type": "code",
   "execution_count": 5,
   "id": "d30769bc-2458-4f3d-a0bd-0cd3132720cc",
   "metadata": {},
   "outputs": [
    {
     "name": "stdout",
     "output_type": "stream",
     "text": [
      "True\n"
     ]
    }
   ],
   "source": [
    "#2\n",
    "\"\"\"\n",
    "Write a function that takes a two-word string and returns True if both words begin\n",
    "with same letter. For example, LevelOne and Lizzy should return True while\n",
    "Damilola and Chika should return False.\n",
    "\"\"\"\n",
    "def two_strings(strings):\n",
    "    s1, s2 = strings.split(' ')\n",
    "    print(s1[0].upper() == s2[0].upper())\n",
    "\n",
    "two_strings(\"LevelOne Lizzy\")\n",
    "\n",
    "\n",
    "\n",
    "\n"
   ]
  },
  {
   "cell_type": "code",
   "execution_count": 11,
   "id": "d5e414e9-3d84-4d54-ad50-30804e0b0894",
   "metadata": {},
   "outputs": [
    {
     "name": "stdout",
     "output_type": "stream",
     "text": [
      "False\n"
     ]
    }
   ],
   "source": [
    "#3\n",
    "def two_int(a, b):\n",
    "    if a+b == 20:\n",
    "        print(\"True\")\n",
    "    \n",
    "    elif a == 20 or b == 20:\n",
    "        print(\"True\")\n",
    "    else:\n",
    "         print(\"False\")\n",
    "\n",
    "   \n",
    "two_int(50, 40)\n",
    "    \n",
    "    "
   ]
  },
  {
   "cell_type": "code",
   "execution_count": 15,
   "id": "9edc84b1-751b-41da-84bd-4d6504201171",
   "metadata": {},
   "outputs": [
    {
     "data": {
      "text/plain": [
       "'LanRe'"
      ]
     },
     "execution_count": 15,
     "metadata": {},
     "output_type": "execute_result"
    }
   ],
   "source": [
    "#4\n",
    "# upper()\n",
    "def cap_letters(name):\n",
    "    mylist = list(name)\n",
    "    mylist[0] = mylist[0].upper()\n",
    "    mylist[3] = mylist[3].upper()\n",
    "    return ''.join(mylist)\n",
    "\n",
    "cap_letters(\"lanre\")"
   ]
  },
  {
   "cell_type": "code",
   "execution_count": 26,
   "id": "9a816a48-95d4-42a3-a9cf-a49dd65c4844",
   "metadata": {},
   "outputs": [
    {
     "data": {
      "text/plain": [
       "'erif no era aeslehC'"
      ]
     },
     "execution_count": 26,
     "metadata": {},
     "output_type": "execute_result"
    }
   ],
   "source": [
    "#5\n",
    "def reverse_sentence(words):\n",
    "    mylist = list(words)\n",
    "    mylist.reverse()\n",
    "    return \"\".join(mylist)\n",
    "\n",
    "reverse_sentence(\"Chelsea are on fire\")\n",
    "    "
   ]
  },
  {
   "cell_type": "code",
   "execution_count": 2,
   "id": "763c7580-ca89-4332-9c8a-a3e518bd500a",
   "metadata": {},
   "outputs": [
    {
     "name": "stdout",
     "output_type": "stream",
     "text": [
      "false\n",
      "false\n",
      "false\n",
      "false\n"
     ]
    }
   ],
   "source": [
    "#6\n",
    "\n",
    "def three_three(words):\n",
    "    a=0\n",
    "    for l in words:\n",
    "        if a < l or a > l:\n",
    "            a=l\n",
    "            print(\"false\")\n",
    "        else:\n",
    "            print(\"true\")\n",
    "            \n",
    "mylist=  [1, 3, 1, 3]\n",
    "\n",
    "three_three(mylist)"
   ]
  },
  {
   "cell_type": "code",
   "execution_count": 28,
   "id": "8ec8a8eb-81cc-436a-83a0-110debed605b",
   "metadata": {},
   "outputs": [
    {
     "name": "stdout",
     "output_type": "stream",
     "text": [
      "2\n",
      "7\n"
     ]
    }
   ],
   "source": [
    "#7\n",
    "def sum_list(mylist):\n",
    "    a=0\n",
    "    for l in mylist:\n",
    "        if l < 6 or l > 9:\n",
    "            a=l+a\n",
    "            print(a)\n",
    "        else:\n",
    "            pass\n",
    "            \n",
    "mylist = [2, 5, 6, 7, 8, 9]\n",
    "\n",
    "sum_list(mylist)"
   ]
  },
  {
   "cell_type": "code",
   "execution_count": 1,
   "id": "9ad7409d-22dd-411b-8fcd-a5cbb63c31ca",
   "metadata": {},
   "outputs": [
    {
     "name": "stdout",
     "output_type": "stream",
     "text": [
      "false\n",
      "true\n",
      "false\n",
      "false\n",
      "false\n"
     ]
    }
   ],
   "source": [
    "#8\n",
    "\"\"\"\n",
    "Write a function that takes in a list of integers and returns True if it contains 007 in\n",
    "order. [1, 2, 4, 0, 0, 7, 5] should return True while [1, 0, 2, 4, 0, 5, 7] should return\n",
    "True and, [1, 7, 2, 0, 4, 5, 0] should return False.\n",
    "\"\"\"\n",
    "# we'll be making use of Start:steps:stop to get the last 3 numbers of the list\n",
    "def james_bond(mylist):\n",
    "    a=0\n",
    "    for l in mylist:\n",
    "        if l==a:\n",
    "            pass\n",
    "        elif l==a:\n",
    "            pass\n",
    "        elif l == 7:\n",
    "            pass        \n",
    "            print(\"true\")\n",
    "        elif l != a or l != 7:\n",
    "            print(\"false\")\n",
    "mylist=[1, 7, 2, 0, 4, 5, 0]\n",
    "james_bond(mylist)"
   ]
  },
  {
   "cell_type": "code",
   "execution_count": null,
   "id": "cb7a904c-bc3b-439f-ab7a-53321cd59326",
   "metadata": {},
   "outputs": [],
   "source": [
    "#9\n",
    "\"\"\"\n",
    "Write a function that returns the number of prime numbers that exist up to and\n",
    "including a given number e.g. the number of prime numbers between 0 and 100 is\n",
    "25 – 0 and 1 are not prime numbers.\n",
    "\"\"\"\n"
   ]
  }
 ],
 "metadata": {
  "kernelspec": {
   "display_name": "Python 3 (ipykernel)",
   "language": "python",
   "name": "python3"
  },
  "language_info": {
   "codemirror_mode": {
    "name": "ipython",
    "version": 3
   },
   "file_extension": ".py",
   "mimetype": "text/x-python",
   "name": "python",
   "nbconvert_exporter": "python",
   "pygments_lexer": "ipython3",
   "version": "3.12.4"
  }
 },
 "nbformat": 4,
 "nbformat_minor": 5
}
