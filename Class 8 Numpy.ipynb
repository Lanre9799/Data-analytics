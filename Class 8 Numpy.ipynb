{
 "cells": [
  {
   "cell_type": "code",
   "execution_count": 12,
   "id": "a713bd53-e122-48a5-8e54-5b98cb449044",
   "metadata": {},
   "outputs": [
    {
     "data": {
      "text/plain": [
       "0"
      ]
     },
     "execution_count": 12,
     "metadata": {},
     "output_type": "execute_result"
    }
   ],
   "source": [
    "# Numpy, Pandas, Matplotlib. etc.\n",
    "# Numpy - Numerical Python.\n",
    "# for scientific aplications, modelling, etc.\n",
    "# linear algebra, computational data science, etc.\n",
    "\n",
    "# ndarray - data structure.\n",
    "# N-dimensional array. where N is any number from 0,1,2,3,....\n",
    "\n",
    "\"\"\"\n",
    "0 dimensions - scalar quantity e.g. 45\n",
    "1 dimension - vector - magnitude and direction. e.g. x-axis\n",
    "2 - dimensions - an array of vectors e.g. x- and y- axis\n",
    "3 - dimensions - an array of 2D vectors having x,y, and z-axis.\n",
    "4 - Dimensions - an array of 3D vectors\n",
    "\"\"\"\n",
    "\n",
    "# ndarray is a container of items of the same type.\n",
    "\n",
    "import numpy as np\n",
    "zerodim = np.array(45)\n",
    "onedim = np.array([1,1,3,5,6])\n",
    "\n",
    "twodim = np.array(\n",
    "    [\n",
    "        [1,1,3,5,6],\n",
    "        [1,1,3,5,6],\n",
    "        [1,1,3,5,6]\n",
    "    ]\n",
    ")\n",
    "\n",
    "threedim = np.array(\n",
    "    [\n",
    "        [[100, 101],[102, 103]],\n",
    "        [[100, 101],[102, 103]],\n",
    "        [[100, 101],[102, 103]]\n",
    "    ]\n",
    ")\n",
    "\n",
    "# to determine the number of dimensions of an nd-array, use the ndim property\n",
    "np.ndim(zerodim)"
   ]
  },
  {
   "cell_type": "code",
   "execution_count": 3,
   "id": "ee8d80b4-03b0-4b3e-95af-879d920fd64b",
   "metadata": {},
   "outputs": [
    {
     "data": {
      "text/plain": [
       "1"
      ]
     },
     "execution_count": 3,
     "metadata": {},
     "output_type": "execute_result"
    }
   ],
   "source": [
    "np.ndim(onedim)"
   ]
  },
  {
   "cell_type": "code",
   "execution_count": 5,
   "id": "c879a29e-9991-46e4-8196-cd5aed913124",
   "metadata": {},
   "outputs": [
    {
     "data": {
      "text/plain": [
       "2"
      ]
     },
     "execution_count": 5,
     "metadata": {},
     "output_type": "execute_result"
    }
   ],
   "source": [
    "np.ndim(twodim)"
   ]
  },
  {
   "cell_type": "code",
   "execution_count": 7,
   "id": "dae2c0b7-dd7a-4716-a5ba-8b38adf02e25",
   "metadata": {},
   "outputs": [
    {
     "data": {
      "text/plain": [
       "3"
      ]
     },
     "execution_count": 7,
     "metadata": {},
     "output_type": "execute_result"
    }
   ],
   "source": [
    "np.ndim(threedim)"
   ]
  },
  {
   "cell_type": "code",
   "execution_count": 9,
   "id": "810aa548-14de-4554-9825-234b56840eac",
   "metadata": {},
   "outputs": [
    {
     "data": {
      "text/plain": [
       "2"
      ]
     },
     "execution_count": 9,
     "metadata": {},
     "output_type": "execute_result"
    }
   ],
   "source": [
    "twodim.ndim"
   ]
  },
  {
   "cell_type": "code",
   "execution_count": 18,
   "id": "f7396735-5e93-4a75-9522-64136ae56fce",
   "metadata": {},
   "outputs": [],
   "source": [
    "x = np.array(\n",
    "    [[67,63,87],\n",
    "     [77,69,59],\n",
    "     [44,87,23],\n",
    "     [12,13,16],\n",
    "     [59,60,41],\n",
    "     [68,97,18]\n",
    "    ]\n",
    ")\n"
   ]
  },
  {
   "cell_type": "code",
   "execution_count": 13,
   "id": "01705991-2982-43fa-94de-5812595fdee6",
   "metadata": {},
   "outputs": [
    {
     "data": {
      "text/plain": [
       "2"
      ]
     },
     "execution_count": 13,
     "metadata": {},
     "output_type": "execute_result"
    }
   ],
   "source": [
    "x.ndim"
   ]
  },
  {
   "cell_type": "code",
   "execution_count": 15,
   "id": "a1be0fbb-e234-4979-84c0-cbdfd038777f",
   "metadata": {},
   "outputs": [
    {
     "data": {
      "text/plain": [
       "(6, 3)"
      ]
     },
     "execution_count": 15,
     "metadata": {},
     "output_type": "execute_result"
    }
   ],
   "source": [
    "# shape property\n",
    "# shape returns a tuple that show how many rows and columns exist in the array\n",
    "x.shape"
   ]
  },
  {
   "cell_type": "code",
   "execution_count": 17,
   "id": "3be5b47d-05d3-4f0b-b94d-479a60c489cf",
   "metadata": {},
   "outputs": [
    {
     "data": {
      "text/plain": [
       "()"
      ]
     },
     "execution_count": 17,
     "metadata": {},
     "output_type": "execute_result"
    }
   ],
   "source": [
    "zerodim.shape\n"
   ]
  },
  {
   "cell_type": "code",
   "execution_count": 19,
   "id": "566115b9-709d-481b-a032-ff8e0ddaf0d0",
   "metadata": {},
   "outputs": [
    {
     "data": {
      "text/plain": [
       "(5,)"
      ]
     },
     "execution_count": 19,
     "metadata": {},
     "output_type": "execute_result"
    }
   ],
   "source": [
    "onedim.shape"
   ]
  },
  {
   "cell_type": "code",
   "execution_count": 21,
   "id": "852c51f3-d825-494d-a121-3237afe7a25f",
   "metadata": {},
   "outputs": [
    {
     "data": {
      "text/plain": [
       "(3, 5)"
      ]
     },
     "execution_count": 21,
     "metadata": {},
     "output_type": "execute_result"
    }
   ],
   "source": [
    "twodim.shape"
   ]
  },
  {
   "cell_type": "code",
   "execution_count": 23,
   "id": "e8be9c0f-996e-4eca-bd31-ba741087ebf6",
   "metadata": {},
   "outputs": [
    {
     "data": {
      "text/plain": [
       "(3, 2, 2)"
      ]
     },
     "execution_count": 23,
     "metadata": {},
     "output_type": "execute_result"
    }
   ],
   "source": [
    "threedim.shape"
   ]
  },
  {
   "cell_type": "code",
   "execution_count": 25,
   "id": "7a84ff90-9fec-4502-80f6-2578137fc865",
   "metadata": {
    "scrolled": true
   },
   "outputs": [
    {
     "data": {
      "text/plain": [
       "array([[[100, 101],\n",
       "        [102, 103]],\n",
       "\n",
       "       [[100, 101],\n",
       "        [102, 103]],\n",
       "\n",
       "       [[100, 101],\n",
       "        [102, 103]]])"
      ]
     },
     "execution_count": 25,
     "metadata": {},
     "output_type": "execute_result"
    }
   ],
   "source": [
    "threedim"
   ]
  },
  {
   "cell_type": "code",
   "execution_count": 20,
   "id": "a34d8b1c-b7d2-435e-98ee-670e0b7bb44a",
   "metadata": {},
   "outputs": [
    {
     "data": {
      "text/plain": [
       "(6, 3)"
      ]
     },
     "execution_count": 20,
     "metadata": {},
     "output_type": "execute_result"
    }
   ],
   "source": [
    "x.shape"
   ]
  },
  {
   "cell_type": "code",
   "execution_count": 31,
   "id": "bc9cfe62-034d-4fef-9e7d-351be1ef120f",
   "metadata": {},
   "outputs": [
    {
     "data": {
      "text/plain": [
       "array([[67, 63, 87, 77, 69, 59, 44, 87, 23, 12, 13, 16, 59, 60, 41, 68,\n",
       "        97, 18]])"
      ]
     },
     "execution_count": 31,
     "metadata": {},
     "output_type": "execute_result"
    }
   ],
   "source": [
    "x.reshape(1,18)"
   ]
  },
  {
   "cell_type": "code",
   "execution_count": 33,
   "id": "40f5940a-f821-4e7b-bfed-775d329b0246",
   "metadata": {},
   "outputs": [
    {
     "data": {
      "text/plain": [
       "array([[67, 63, 87, 77, 69, 59, 44, 87, 23],\n",
       "       [12, 13, 16, 59, 60, 41, 68, 97, 18]])"
      ]
     },
     "execution_count": 33,
     "metadata": {},
     "output_type": "execute_result"
    }
   ],
   "source": [
    "x.reshape(2, 9)"
   ]
  },
  {
   "cell_type": "code",
   "execution_count": 35,
   "id": "cee30218-2f7b-4607-a366-8db673357075",
   "metadata": {},
   "outputs": [
    {
     "ename": "ValueError",
     "evalue": "cannot reshape array of size 18 into shape (4,5)",
     "output_type": "error",
     "traceback": [
      "\u001b[1;31m---------------------------------------------------------------------------\u001b[0m",
      "\u001b[1;31mValueError\u001b[0m                                Traceback (most recent call last)",
      "Cell \u001b[1;32mIn[35], line 2\u001b[0m\n\u001b[0;32m      1\u001b[0m \u001b[38;5;66;03m# only 18 elements so it is wrong.\u001b[39;00m\n\u001b[1;32m----> 2\u001b[0m x\u001b[38;5;241m.\u001b[39mreshape(\u001b[38;5;241m4\u001b[39m,\u001b[38;5;241m5\u001b[39m)\n",
      "\u001b[1;31mValueError\u001b[0m: cannot reshape array of size 18 into shape (4,5)"
     ]
    }
   ],
   "source": [
    "# only 18 elements so it is wrong.\n",
    "x.reshape(4,5)"
   ]
  },
  {
   "cell_type": "code",
   "execution_count": 37,
   "id": "1603cdf8-9bdb-4077-809c-1d46bb227a48",
   "metadata": {},
   "outputs": [
    {
     "data": {
      "text/plain": [
       "array([1, 1, 3, 5, 6])"
      ]
     },
     "execution_count": 37,
     "metadata": {},
     "output_type": "execute_result"
    }
   ],
   "source": [
    "# indexing and slicing\n",
    "onedim"
   ]
  },
  {
   "cell_type": "code",
   "execution_count": 39,
   "id": "3dd118de-305c-4c6b-a990-42988ac70eb8",
   "metadata": {},
   "outputs": [
    {
     "data": {
      "text/plain": [
       "1"
      ]
     },
     "execution_count": 39,
     "metadata": {},
     "output_type": "execute_result"
    }
   ],
   "source": [
    "onedim[0]"
   ]
  },
  {
   "cell_type": "code",
   "execution_count": 41,
   "id": "4dacae7b-ec52-425d-8170-4e0045db687b",
   "metadata": {},
   "outputs": [
    {
     "data": {
      "text/plain": [
       "6"
      ]
     },
     "execution_count": 41,
     "metadata": {},
     "output_type": "execute_result"
    }
   ],
   "source": [
    "onedim[-1]"
   ]
  },
  {
   "cell_type": "code",
   "execution_count": 43,
   "id": "b4840388-ccaa-4076-ac63-c45998186b58",
   "metadata": {},
   "outputs": [
    {
     "data": {
      "text/plain": [
       "8"
      ]
     },
     "execution_count": 43,
     "metadata": {},
     "output_type": "execute_result"
    }
   ],
   "source": [
    "onedim[2] + onedim[3]"
   ]
  },
  {
   "cell_type": "code",
   "execution_count": 45,
   "id": "71ec1420-9b18-41da-86af-61ccf7f011d1",
   "metadata": {},
   "outputs": [
    {
     "data": {
      "text/plain": [
       "array([ 2,  2,  6, 10, 12])"
      ]
     },
     "execution_count": 45,
     "metadata": {},
     "output_type": "execute_result"
    }
   ],
   "source": [
    "onedim * 2"
   ]
  },
  {
   "cell_type": "code",
   "execution_count": 47,
   "id": "52d42aaa-0d40-4354-b4e1-39d1289ea700",
   "metadata": {},
   "outputs": [
    {
     "data": {
      "text/plain": [
       "array([1, 3, 5])"
      ]
     },
     "execution_count": 47,
     "metadata": {},
     "output_type": "execute_result"
    }
   ],
   "source": [
    "onedim[1:4]"
   ]
  },
  {
   "cell_type": "code",
   "execution_count": 49,
   "id": "ab27a678-cf88-4b46-b77a-0f46b135c38f",
   "metadata": {},
   "outputs": [
    {
     "data": {
      "text/plain": [
       "array([[67, 63, 87],\n",
       "       [77, 69, 59],\n",
       "       [44, 87, 23],\n",
       "       [12, 13, 16],\n",
       "       [59, 60, 41],\n",
       "       [68, 97, 18]])"
      ]
     },
     "execution_count": 49,
     "metadata": {},
     "output_type": "execute_result"
    }
   ],
   "source": [
    "x"
   ]
  },
  {
   "cell_type": "code",
   "execution_count": 51,
   "id": "8b2e660b-30e5-43f4-aa95-10deb353de0b",
   "metadata": {},
   "outputs": [
    {
     "data": {
      "text/plain": [
       "array([44, 87, 23])"
      ]
     },
     "execution_count": 51,
     "metadata": {},
     "output_type": "execute_result"
    }
   ],
   "source": [
    "x[2]"
   ]
  },
  {
   "cell_type": "code",
   "execution_count": 55,
   "id": "4962b217-3939-4ad2-97f8-701a4572a738",
   "metadata": {},
   "outputs": [
    {
     "data": {
      "text/plain": [
       "87"
      ]
     },
     "execution_count": 55,
     "metadata": {},
     "output_type": "execute_result"
    }
   ],
   "source": [
    "x[2,1] # row, column notation"
   ]
  },
  {
   "cell_type": "code",
   "execution_count": 57,
   "id": "3caef134-fb77-48fb-8e82-0916429224fa",
   "metadata": {},
   "outputs": [
    {
     "data": {
      "text/plain": [
       "array([[87],\n",
       "       [59],\n",
       "       [23]])"
      ]
     },
     "execution_count": 57,
     "metadata": {},
     "output_type": "execute_result"
    }
   ],
   "source": [
    "# slicing\n",
    "x[:3, 2:]"
   ]
  },
  {
   "cell_type": "code",
   "execution_count": 59,
   "id": "7d1cb1bd-9600-4644-902f-983a8bac4748",
   "metadata": {},
   "outputs": [
    {
     "data": {
      "text/plain": [
       "array([[67, 63, 87],\n",
       "       [77, 69, 59],\n",
       "       [44, 87, 23]])"
      ]
     },
     "execution_count": 59,
     "metadata": {},
     "output_type": "execute_result"
    }
   ],
   "source": [
    "x[:3]"
   ]
  },
  {
   "cell_type": "code",
   "execution_count": 63,
   "id": "44e103a8-2082-4b01-8d49-5fa83f177144",
   "metadata": {},
   "outputs": [
    {
     "data": {
      "text/plain": [
       "array([[67, 63],\n",
       "       [77, 69],\n",
       "       [44, 87]])"
      ]
     },
     "execution_count": 63,
     "metadata": {},
     "output_type": "execute_result"
    }
   ],
   "source": [
    "x[:3, :2]"
   ]
  },
  {
   "cell_type": "code",
   "execution_count": 65,
   "id": "3875721e-1ce5-40ff-b63c-21fba568705b",
   "metadata": {},
   "outputs": [
    {
     "data": {
      "text/plain": [
       "16"
      ]
     },
     "execution_count": 65,
     "metadata": {},
     "output_type": "execute_result"
    }
   ],
   "source": [
    "x[3][2]"
   ]
  },
  {
   "cell_type": "code",
   "execution_count": 67,
   "id": "d8278bfe-5569-4702-874e-59f3ce0b6c08",
   "metadata": {},
   "outputs": [
    {
     "data": {
      "text/plain": [
       "60"
      ]
     },
     "execution_count": 67,
     "metadata": {},
     "output_type": "execute_result"
    }
   ],
   "source": [
    "y = x.reshape(3,6)\n",
    "y[2,1]"
   ]
  },
  {
   "cell_type": "code",
   "execution_count": 69,
   "id": "e5321aec-7da8-4826-aa29-c575eb66c974",
   "metadata": {},
   "outputs": [
    {
     "data": {
      "text/plain": [
       "array([[67, 63, 87, 77, 69, 59],\n",
       "       [44, 87, 23, 12, 13, 16],\n",
       "       [59, 60, 41, 68, 97, 18]])"
      ]
     },
     "execution_count": 69,
     "metadata": {},
     "output_type": "execute_result"
    }
   ],
   "source": [
    "x.reshape(3,6)"
   ]
  },
  {
   "cell_type": "code",
   "execution_count": null,
   "id": "967572a6-57e3-4b86-b299-c764c6b43553",
   "metadata": {},
   "outputs": [],
   "source": []
  }
 ],
 "metadata": {
  "kernelspec": {
   "display_name": "Python 3 (ipykernel)",
   "language": "python",
   "name": "python3"
  },
  "language_info": {
   "codemirror_mode": {
    "name": "ipython",
    "version": 3
   },
   "file_extension": ".py",
   "mimetype": "text/x-python",
   "name": "python",
   "nbconvert_exporter": "python",
   "pygments_lexer": "ipython3",
   "version": "3.12.4"
  }
 },
 "nbformat": 4,
 "nbformat_minor": 5
}
