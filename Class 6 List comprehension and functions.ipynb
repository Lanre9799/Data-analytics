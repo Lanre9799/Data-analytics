{
 "cells": [
  {
   "cell_type": "code",
   "execution_count": 8,
   "id": "7e11c774-da1a-424b-b6c0-553acc8628a9",
   "metadata": {},
   "outputs": [],
   "source": [
    "mylist=[]\n",
    "mylist.append(5)"
   ]
  },
  {
   "cell_type": "code",
   "execution_count": 10,
   "id": "bdd920aa-7db9-44b4-8f7e-9de0ce4659ae",
   "metadata": {},
   "outputs": [],
   "source": [
    "mylist.append(8)"
   ]
  },
  {
   "cell_type": "code",
   "execution_count": 12,
   "id": "13cb6ff3-d5a9-4894-9a3f-1bfec51edc96",
   "metadata": {},
   "outputs": [],
   "source": [
    "# append is a builit-in method for lists.\n",
    "# upper is a built-in method for strings."
   ]
  },
  {
   "cell_type": "code",
   "execution_count": 18,
   "id": "90cc98cb-eca4-41df-9eb1-7952cd9625d4",
   "metadata": {},
   "outputs": [
    {
     "name": "stdout",
     "output_type": "stream",
     "text": [
      "Help on built-in function splitlines:\n",
      "\n",
      "splitlines(keepends=False) method of builtins.str instance\n",
      "    Return a list of the lines in the string, breaking at line boundaries.\n",
      "\n",
      "    Line breaks are not included in the resulting list unless keepends is given and\n",
      "    true.\n",
      "\n"
     ]
    }
   ],
   "source": [
    "# object_name.method_name(parameters)\n",
    "s= \" Jesus is lord\"\n",
    "help(s.splitlines)"
   ]
  },
  {
   "cell_type": "code",
   "execution_count": 20,
   "id": "810f3f5c-ecbf-4c30-9579-6512c0cba834",
   "metadata": {},
   "outputs": [
    {
     "name": "stdout",
     "output_type": "stream",
     "text": [
      "Help on built-in function append:\n",
      "\n",
      "append(object, /) method of builtins.list instance\n",
      "    Append object to the end of the list.\n",
      "\n"
     ]
    }
   ],
   "source": [
    "help(mylist.append)"
   ]
  },
  {
   "cell_type": "code",
   "execution_count": 22,
   "id": "2d944735-b196-4f17-900f-1b3a923e5dd8",
   "metadata": {},
   "outputs": [
    {
     "data": {
      "text/plain": [
       "2"
      ]
     },
     "execution_count": 22,
     "metadata": {},
     "output_type": "execute_result"
    }
   ],
   "source": [
    "# functions.\n",
    "# examples of builit-in functions already used\n",
    "# len(), id(), str(), etc.\n",
    "\n",
    "len(mylist)"
   ]
  },
  {
   "cell_type": "code",
   "execution_count": 24,
   "id": "4cbfbb75-266f-4278-ad0b-ac4c502cb325",
   "metadata": {},
   "outputs": [
    {
     "data": {
      "text/plain": [
       "14"
      ]
     },
     "execution_count": 24,
     "metadata": {},
     "output_type": "execute_result"
    }
   ],
   "source": [
    "len(s)\n"
   ]
  },
  {
   "cell_type": "code",
   "execution_count": 26,
   "id": "d6a3f6ab-6f72-482f-a6f9-f426f1b43c8f",
   "metadata": {},
   "outputs": [
    {
     "data": {
      "text/plain": [
       "2417006272000"
      ]
     },
     "execution_count": 26,
     "metadata": {},
     "output_type": "execute_result"
    }
   ],
   "source": [
    "id(mylist)"
   ]
  },
  {
   "cell_type": "code",
   "execution_count": 28,
   "id": "730124a4-3679-47d5-8017-c69c02b069b9",
   "metadata": {},
   "outputs": [
    {
     "data": {
      "text/plain": [
       "2417006713136"
      ]
     },
     "execution_count": 28,
     "metadata": {},
     "output_type": "execute_result"
    }
   ],
   "source": [
    "id(s)"
   ]
  },
  {
   "cell_type": "code",
   "execution_count": 32,
   "id": "e8874903-a230-445a-b2e8-52b6c17dcc85",
   "metadata": {},
   "outputs": [
    {
     "data": {
      "text/plain": [
       "\"\\n1. divide-and-conquer\\n2. DRY - don't repeat yourself\\nA function is a piece of code that can be executed as many times as needed.\\nmethods are similar to functions as per the above.\\n\""
      ]
     },
     "execution_count": 32,
     "metadata": {},
     "output_type": "execute_result"
    }
   ],
   "source": [
    "# builit-in methods and builit_in functions.\n",
    "# user-defined methods and user-defined functions.\n",
    "# user-defined functions.\n",
    "\"\"\"\n",
    "1. divide-and-conquer\n",
    "2. DRY - don't repeat yourself\n",
    "A function is a piece of code that can be executed as many times as needed.\n",
    "methods are similar to functions as per the above.\n",
    "\n",
    "def function_name(arg1, arg2, ...):\n",
    "    \"\"\"\n",
    "     optional but helpful docstring where applicable\n",
    "    \"\"\"\n",
    "    # program instructions\n",
    "    return (optional)\n",
    "\"\"\""
   ]
  },
  {
   "cell_type": "code",
   "execution_count": 34,
   "id": "80d71b98-dc5b-4986-8c12-512d79db62e9",
   "metadata": {},
   "outputs": [
    {
     "name": "stdout",
     "output_type": "stream",
     "text": [
      "Help on function get_sum in module __main__:\n",
      "\n",
      "get_sum(num1, num2)\n",
      "    this function returns the sum of 2 numbers\n",
      "    you must provide 2 integrs for it to work well.\n",
      "\n"
     ]
    }
   ],
   "source": [
    "# write a simple function that returns the sum of 2 numbers.\n",
    "def get_sum(num1, num2):\n",
    "    \"\"\"\n",
    "    this function returns the sum of 2 numbers\n",
    "    you must provide 2 integrs for it to work well.\n",
    "    \"\"\"\n",
    "    result = num1 + num2\n",
    "    return result\n",
    "\n",
    "help(get_sum)"
   ]
  },
  {
   "cell_type": "code",
   "execution_count": 36,
   "id": "1ebff7f6-ed8d-497b-9061-9e4389fd3c53",
   "metadata": {},
   "outputs": [
    {
     "data": {
      "text/plain": [
       "9"
      ]
     },
     "execution_count": 36,
     "metadata": {},
     "output_type": "execute_result"
    }
   ],
   "source": [
    "get_sum(4,5)"
   ]
  },
  {
   "cell_type": "code",
   "execution_count": 38,
   "id": "74253eee-a198-4711-bf6c-c2c6da3b8444",
   "metadata": {},
   "outputs": [
    {
     "name": "stdout",
     "output_type": "stream",
     "text": [
      "10\n"
     ]
    },
    {
     "data": {
      "text/plain": [
       "3.3333333333333335"
      ]
     },
     "execution_count": 38,
     "metadata": {},
     "output_type": "execute_result"
    }
   ],
   "source": [
    "ans = get_sum(3, 7)\n",
    "print(ans) # telling python what to do with the returned value\n",
    "ans/3"
   ]
  },
  {
   "cell_type": "code",
   "execution_count": 40,
   "id": "02e3615f-49ab-4aec-af18-516a57146556",
   "metadata": {},
   "outputs": [],
   "source": [
    "ans = get_sum(3, 7)"
   ]
  },
  {
   "cell_type": "code",
   "execution_count": 42,
   "id": "d06ef89f-33fb-48d6-810e-8b6bde4bb5c4",
   "metadata": {},
   "outputs": [
    {
     "data": {
      "text/plain": [
       "True"
      ]
     },
     "execution_count": 42,
     "metadata": {},
     "output_type": "execute_result"
    }
   ],
   "source": [
    "def check_even(number):\n",
    "    return number % 2 == 0\n",
    "\n",
    "check_even(20)"
   ]
  },
  {
   "cell_type": "code",
   "execution_count": 44,
   "id": "8b9614a9-bc87-429b-9ad8-e17828da9e2b",
   "metadata": {},
   "outputs": [
    {
     "ename": "TypeError",
     "evalue": "not all arguments converted during string formatting",
     "output_type": "error",
     "traceback": [
      "\u001b[1;31m---------------------------------------------------------------------------\u001b[0m",
      "\u001b[1;31mTypeError\u001b[0m                                 Traceback (most recent call last)",
      "Cell \u001b[1;32mIn[44], line 1\u001b[0m\n\u001b[1;32m----> 1\u001b[0m check_even(\u001b[38;5;124m'\u001b[39m\u001b[38;5;124mtwenty\u001b[39m\u001b[38;5;124m'\u001b[39m)\n",
      "Cell \u001b[1;32mIn[42], line 2\u001b[0m, in \u001b[0;36mcheck_even\u001b[1;34m(number)\u001b[0m\n\u001b[0;32m      1\u001b[0m \u001b[38;5;28;01mdef\u001b[39;00m \u001b[38;5;21mcheck_even\u001b[39m(number):\n\u001b[1;32m----> 2\u001b[0m     \u001b[38;5;28;01mreturn\u001b[39;00m number \u001b[38;5;241m%\u001b[39m \u001b[38;5;241m2\u001b[39m \u001b[38;5;241m==\u001b[39m \u001b[38;5;241m0\u001b[39m\n",
      "\u001b[1;31mTypeError\u001b[0m: not all arguments converted during string formatting"
     ]
    }
   ],
   "source": [
    "check_even('twenty')"
   ]
  },
  {
   "cell_type": "code",
   "execution_count": 46,
   "id": "d39db115-22d9-42df-8cdc-da7ad8cce709",
   "metadata": {},
   "outputs": [
    {
     "data": {
      "text/plain": [
       "'48'"
      ]
     },
     "execution_count": 46,
     "metadata": {},
     "output_type": "execute_result"
    }
   ],
   "source": [
    "get_sum('4','8')"
   ]
  },
  {
   "cell_type": "code",
   "execution_count": 146,
   "id": "59e4f2f3-2e95-4af5-ae17-d700cf96d8ce",
   "metadata": {},
   "outputs": [
    {
     "data": {
      "text/plain": [
       "'only integer values are allowed.'"
      ]
     },
     "execution_count": 146,
     "metadata": {},
     "output_type": "execute_result"
    }
   ],
   "source": [
    "# write a simple function that returns the sum of 2 numbers\n",
    "def get_sum(num1, num2):\n",
    "    # check that only integers are provided.\n",
    "    #print(isinstance(num1, int))\n",
    "     if not isinstance(num1, int) or (isinstance(num2, int)) :\n",
    "         return 'only integer values are allowed.'\n",
    "     else:\n",
    "         result = num1 + num2\n",
    "         return result\n",
    "\n",
    "get_sum('4', 7)"
   ]
  },
  {
   "cell_type": "code",
   "execution_count": 144,
   "id": "7e40d369-55fa-4f87-8708-25c43ea60770",
   "metadata": {},
   "outputs": [
    {
     "data": {
      "text/plain": [
       "'only integer values are allowed.'"
      ]
     },
     "execution_count": 144,
     "metadata": {},
     "output_type": "execute_result"
    }
   ],
   "source": [
    "get_sum(3 , 7)"
   ]
  },
  {
   "cell_type": "code",
   "execution_count": 148,
   "id": "94b0b200-1c9a-4b80-9957-0fbea7454686",
   "metadata": {},
   "outputs": [
    {
     "data": {
      "text/plain": [
       "int"
      ]
     },
     "execution_count": 148,
     "metadata": {},
     "output_type": "execute_result"
    }
   ],
   "source": [
    "type(3)"
   ]
  },
  {
   "cell_type": "code",
   "execution_count": 87,
   "id": "cc8429c5-ede0-4ecb-a893-2b22f06670b0",
   "metadata": {},
   "outputs": [
    {
     "name": "stdout",
     "output_type": "stream",
     "text": [
      "0\n",
      "2\n",
      "4\n",
      "6\n",
      "8\n"
     ]
    }
   ],
   "source": [
    "def even_list(my_list):\n",
    "    for num in my_list:\n",
    "        if num % 2 == 0:\n",
    "            print(num)\n",
    "        \n",
    "my_list= list(range(10))\n",
    "even_list(my_list)"
   ]
  },
  {
   "cell_type": "code",
   "execution_count": 85,
   "id": "846d5bc8-4983-4f2b-af02-348d5ccb34e5",
   "metadata": {},
   "outputs": [
    {
     "name": "stdout",
     "output_type": "stream",
     "text": [
      "8\n"
     ]
    }
   ],
   "source": []
  },
  {
   "cell_type": "code",
   "execution_count": 111,
   "id": "4d9d1b82-a631-4c4d-80f9-5260460118f2",
   "metadata": {},
   "outputs": [
    {
     "data": {
      "text/plain": [
       "('tayo', 86)"
      ]
     },
     "execution_count": 111,
     "metadata": {},
     "output_type": "execute_result"
    }
   ],
   "source": [
    "student_scores = [('tola', 84),('tosin',48),('tolu',64),('tayo',86)]\n",
    "# write a function that returns the student with the highest score.\n",
    "\n",
    "def highest_scores(student_scores):\n",
    "    name=None\n",
    "    score=0\n",
    "    for student, overall in student_scores:\n",
    "        if overall >= score:\n",
    "            score = overall\n",
    "            name = student\n",
    "    return( name, score)\n",
    "\n",
    "highest_scores(student_scores)\n",
    "    "
   ]
  },
  {
   "cell_type": "code",
   "execution_count": 117,
   "id": "75ce66fc-e556-4180-8d5a-a1aceaeae003",
   "metadata": {},
   "outputs": [
    {
     "name": "stdout",
     "output_type": "stream",
     "text": [
      "[0, 1, 2, 3, 4, 5]\n",
      "[0, 1, 4, 9, 16, 25]\n"
     ]
    }
   ],
   "source": [
    "# map built-in function.\n",
    "# used to apply a function to the items in an iterable(sequence) object.\n",
    "\n",
    "mynums = list(range(6))\n",
    "print(mynums)\n",
    "\n",
    "def square(num):\n",
    "    return num ** 2\n",
    "\n",
    "square_nums = map(square, mynums)\n",
    "square_nums = list(square_nums)\n",
    "\n",
    "print(square_nums)"
   ]
  },
  {
   "cell_type": "code",
   "execution_count": null,
   "id": "b149f08f-3cbc-40f1-b393-b79e358eedf2",
   "metadata": {},
   "outputs": [],
   "source": [
    "# lambda expression\n",
    "# args and kwargs."
   ]
  }
 ],
 "metadata": {
  "kernelspec": {
   "display_name": "Python 3 (ipykernel)",
   "language": "python",
   "name": "python3"
  },
  "language_info": {
   "codemirror_mode": {
    "name": "ipython",
    "version": 3
   },
   "file_extension": ".py",
   "mimetype": "text/x-python",
   "name": "python",
   "nbconvert_exporter": "python",
   "pygments_lexer": "ipython3",
   "version": "3.12.4"
  }
 },
 "nbformat": 4,
 "nbformat_minor": 5
}
