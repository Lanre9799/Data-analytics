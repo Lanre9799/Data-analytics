{
 "cells": [
  {
   "cell_type": "code",
   "execution_count": 1,
   "id": "06b08e6b-1ff0-4cb2-ab19-23cf16c24b67",
   "metadata": {},
   "outputs": [
    {
     "data": {
      "text/plain": [
       "['I', 'am', 'a', 'strong', 'man']"
      ]
     },
     "execution_count": 1,
     "metadata": {},
     "output_type": "execute_result"
    }
   ],
   "source": [
    "words='I am a strong man'\n",
    "words.split()"
   ]
  },
  {
   "cell_type": "code",
   "execution_count": 3,
   "id": "c83f8915-5b3b-45ac-ad80-eaf43ee4d165",
   "metadata": {},
   "outputs": [
    {
     "data": {
      "text/plain": [
       "[90, False, 'I am a boy', 34.98]"
      ]
     },
     "execution_count": 3,
     "metadata": {},
     "output_type": "execute_result"
    }
   ],
   "source": [
    "#list - is  a sequence of heterogenous objects\n",
    "list1 = [90, False, \"I am a boy\", 34.98]\n",
    "list2 = list()\n",
    "list1"
   ]
  },
  {
   "cell_type": "code",
   "execution_count": 5,
   "id": "88490010-421b-4ed3-b61b-88934953ba12",
   "metadata": {},
   "outputs": [
    {
     "data": {
      "text/plain": [
       "[]"
      ]
     },
     "execution_count": 5,
     "metadata": {},
     "output_type": "execute_result"
    }
   ],
   "source": [
    "list2"
   ]
  },
  {
   "cell_type": "code",
   "execution_count": 7,
   "id": "f6b0901d-8ec2-41ec-8d80-c4a9ef8f7913",
   "metadata": {},
   "outputs": [
    {
     "data": {
      "text/plain": [
       "[90, False, 'I am a boy', 34.98]"
      ]
     },
     "execution_count": 7,
     "metadata": {},
     "output_type": "execute_result"
    }
   ],
   "source": [
    "list1\n"
   ]
  },
  {
   "cell_type": "code",
   "execution_count": 9,
   "id": "69680745-097f-4497-b384-23f3a7b890a1",
   "metadata": {},
   "outputs": [
    {
     "data": {
      "text/plain": [
       "'I am a boy'"
      ]
     },
     "execution_count": 9,
     "metadata": {},
     "output_type": "execute_result"
    }
   ],
   "source": [
    "list1[2]"
   ]
  },
  {
   "cell_type": "code",
   "execution_count": 11,
   "id": "0484672f-8457-4120-8dcf-dffb10a519ce",
   "metadata": {},
   "outputs": [
    {
     "data": {
      "text/plain": [
       "[90, False, 'I am a boy', 34.98]"
      ]
     },
     "execution_count": 11,
     "metadata": {},
     "output_type": "execute_result"
    }
   ],
   "source": [
    "list1"
   ]
  },
  {
   "cell_type": "code",
   "execution_count": 33,
   "id": "699f76c3-a4b5-48c4-85c7-2b84e881487b",
   "metadata": {},
   "outputs": [
    {
     "data": {
      "text/plain": [
       "'boy'"
      ]
     },
     "execution_count": 33,
     "metadata": {},
     "output_type": "execute_result"
    }
   ],
   "source": [
    "list1[2][7:10]\n"
   ]
  },
  {
   "cell_type": "code",
   "execution_count": 37,
   "id": "0097566f-61df-4a97-88b9-cde77ba77e45",
   "metadata": {},
   "outputs": [
    {
     "data": {
      "text/plain": [
       "'o'"
      ]
     },
     "execution_count": 37,
     "metadata": {},
     "output_type": "execute_result"
    }
   ],
   "source": [
    "list1[2][8]"
   ]
  },
  {
   "cell_type": "code",
   "execution_count": 39,
   "id": "66ff6ffb-d400-49fa-b33a-9ac06d01abb3",
   "metadata": {},
   "outputs": [
    {
     "data": {
      "text/plain": [
       "'o'"
      ]
     },
     "execution_count": 39,
     "metadata": {},
     "output_type": "execute_result"
    }
   ],
   "source": [
    "list1[2][7:10][1]"
   ]
  },
  {
   "cell_type": "code",
   "execution_count": 41,
   "id": "4a8ffd98-b7ad-40a2-9c59-e8aecc8d1f05",
   "metadata": {},
   "outputs": [],
   "source": [
    "# built in methods for lists\n",
    "# append, pop, sort\n",
    "\n",
    "# append - add an item to the end of the list\n",
    "list1.append(5)"
   ]
  },
  {
   "cell_type": "code",
   "execution_count": 43,
   "id": "6926ef25-d27e-47f7-b5d6-60249fbcac4e",
   "metadata": {},
   "outputs": [
    {
     "data": {
      "text/plain": [
       "[90, False, 'I am a boy', 34.98, 5]"
      ]
     },
     "execution_count": 43,
     "metadata": {},
     "output_type": "execute_result"
    }
   ],
   "source": [
    "list1"
   ]
  },
  {
   "cell_type": "code",
   "execution_count": 45,
   "id": "2d71e04b-d2fd-491d-8087-6922e639f76e",
   "metadata": {},
   "outputs": [
    {
     "data": {
      "text/plain": [
       "5"
      ]
     },
     "execution_count": 45,
     "metadata": {},
     "output_type": "execute_result"
    }
   ],
   "source": [
    "list1.pop()\n"
   ]
  },
  {
   "cell_type": "code",
   "execution_count": 47,
   "id": "e5334bdc-d7bd-446b-9a71-1d942af06ec0",
   "metadata": {},
   "outputs": [
    {
     "data": {
      "text/plain": [
       "[90, False, 'I am a boy', 34.98]"
      ]
     },
     "execution_count": 47,
     "metadata": {},
     "output_type": "execute_result"
    }
   ],
   "source": [
    "list1"
   ]
  },
  {
   "cell_type": "code",
   "execution_count": 61,
   "id": "57db2119-7ee9-4683-8f0b-a702f4f246ca",
   "metadata": {},
   "outputs": [
    {
     "data": {
      "text/plain": [
       "'I am a boy'"
      ]
     },
     "execution_count": 61,
     "metadata": {},
     "output_type": "execute_result"
    }
   ],
   "source": [
    "list1.pop(1)"
   ]
  },
  {
   "cell_type": "code",
   "execution_count": 63,
   "id": "5a65f14e-dbc8-49b9-bc4e-bfae25e3e20c",
   "metadata": {},
   "outputs": [
    {
     "data": {
      "text/plain": [
       "[90, 34.98]"
      ]
     },
     "execution_count": 63,
     "metadata": {},
     "output_type": "execute_result"
    }
   ],
   "source": [
    "list1"
   ]
  },
  {
   "cell_type": "code",
   "execution_count": 1,
   "id": "ca676ec6-f7b8-4646-94d9-fae14e8cfe2f",
   "metadata": {},
   "outputs": [
    {
     "data": {
      "text/plain": [
       "5"
      ]
     },
     "execution_count": 1,
     "metadata": {},
     "output_type": "execute_result"
    }
   ],
   "source": [
    "#nesting.\n",
    "# - to place a list inside a list.\n",
    "numbers = [1,2,3,[4,5,6], 'Python']\n",
    "numbers[3][1]"
   ]
  },
  {
   "cell_type": "code",
   "execution_count": 5,
   "id": "e04be07f-1271-447d-b18b-bfffe8377964",
   "metadata": {},
   "outputs": [
    {
     "data": {
      "text/plain": [
       "[1, 2, 3, [4, 5, 6], 'Python']"
      ]
     },
     "execution_count": 5,
     "metadata": {},
     "output_type": "execute_result"
    }
   ],
   "source": [
    "numbers"
   ]
  },
  {
   "cell_type": "code",
   "execution_count": 11,
   "id": "33fda754-d81c-4a1d-98f2-8594ad10c14c",
   "metadata": {},
   "outputs": [
    {
     "data": {
      "text/plain": [
       "['Moses', 'Susan', 'Smith']"
      ]
     },
     "execution_count": 11,
     "metadata": {},
     "output_type": "execute_result"
    }
   ],
   "source": [
    "#dictionary\n",
    "#strings and lists are sequences and are both ordered - index.\n",
    "# dictionary are unordered mapped objects that use key, value pairs\n",
    "#dictionaries can contain any other data type.\n",
    "\n",
    "people = {'names' : ['Moses','Susan','Smith'],\n",
    "          'age': [34, 56, 32],\n",
    "          'roles': ['Admin','CEO','Accountant']\n",
    "}\n",
    "people['names']"
   ]
  },
  {
   "cell_type": "code",
   "execution_count": 13,
   "id": "cbacb5a1-ece8-4dc4-99be-8947ebf7c1b1",
   "metadata": {},
   "outputs": [
    {
     "data": {
      "text/plain": [
       "[34, 56, 32]"
      ]
     },
     "execution_count": 13,
     "metadata": {},
     "output_type": "execute_result"
    }
   ],
   "source": [
    "people['age']"
   ]
  },
  {
   "cell_type": "code",
   "execution_count": 15,
   "id": "197e588a-354a-43ff-ba97-7eeb1e5b7d21",
   "metadata": {},
   "outputs": [
    {
     "data": {
      "text/plain": [
       "['Admin', 'CEO', 'Accountant']"
      ]
     },
     "execution_count": 15,
     "metadata": {},
     "output_type": "execute_result"
    }
   ],
   "source": [
    "people['roles']"
   ]
  },
  {
   "cell_type": "code",
   "execution_count": 17,
   "id": "b1c76f25-b491-455c-8b10-94be3873e36d",
   "metadata": {},
   "outputs": [
    {
     "data": {
      "text/plain": [
       "'Smith'"
      ]
     },
     "execution_count": 17,
     "metadata": {},
     "output_type": "execute_result"
    }
   ],
   "source": [
    "people['names'][2]"
   ]
  },
  {
   "cell_type": "code",
   "execution_count": 19,
   "id": "f067d0cf-bed9-49b2-bf92-836a8b5509e9",
   "metadata": {},
   "outputs": [],
   "source": [
    "# strings - immutable\n",
    "# lists - mutable\n",
    "# dictionaries - mutable\n",
    "\n",
    "people['names'] = ['Mark','Mary', 'Luke']"
   ]
  },
  {
   "cell_type": "code",
   "execution_count": 21,
   "id": "90c92654-d0d7-4263-bf79-0d797c933fb6",
   "metadata": {},
   "outputs": [
    {
     "data": {
      "text/plain": [
       "{'names': ['Mark', 'Mary', 'Luke'],\n",
       " 'age': [34, 56, 32],\n",
       " 'roles': ['Admin', 'CEO', 'Accountant']}"
      ]
     },
     "execution_count": 21,
     "metadata": {},
     "output_type": "execute_result"
    }
   ],
   "source": [
    "people"
   ]
  },
  {
   "cell_type": "code",
   "execution_count": 23,
   "id": "747479ed-d0f8-4754-8a34-a987afac6caa",
   "metadata": {},
   "outputs": [
    {
     "data": {
      "text/plain": [
       "dict_keys(['names', 'age', 'roles'])"
      ]
     },
     "execution_count": 23,
     "metadata": {},
     "output_type": "execute_result"
    }
   ],
   "source": [
    "# there are 3 commonly used built in methods for dictionaries\n",
    "# - keys(), values(), items()\n",
    "\n",
    "people.keys()"
   ]
  },
  {
   "cell_type": "code",
   "execution_count": 25,
   "id": "00e49a9c-5bf9-4793-8105-a16f1b4e3dbc",
   "metadata": {},
   "outputs": [
    {
     "data": {
      "text/plain": [
       "dict_values([['Mark', 'Mary', 'Luke'], [34, 56, 32], ['Admin', 'CEO', 'Accountant']])"
      ]
     },
     "execution_count": 25,
     "metadata": {},
     "output_type": "execute_result"
    }
   ],
   "source": [
    "people.values()"
   ]
  },
  {
   "cell_type": "code",
   "execution_count": 27,
   "id": "6c198c18-4014-4ac6-87aa-fb99c9b47872",
   "metadata": {},
   "outputs": [
    {
     "data": {
      "text/plain": [
       "dict_items([('names', ['Mark', 'Mary', 'Luke']), ('age', [34, 56, 32]), ('roles', ['Admin', 'CEO', 'Accountant'])])"
      ]
     },
     "execution_count": 27,
     "metadata": {},
     "output_type": "execute_result"
    }
   ],
   "source": [
    "people.items()"
   ]
  },
  {
   "cell_type": "code",
   "execution_count": 29,
   "id": "eb0b57d5-8b99-447e-8679-682a5aeaf180",
   "metadata": {},
   "outputs": [
    {
     "data": {
      "text/plain": [
       "(1, 'Tola', True, 87.98)"
      ]
     },
     "execution_count": 29,
     "metadata": {},
     "output_type": "execute_result"
    }
   ],
   "source": [
    "#tuple\n",
    "# tuples are similar to lists\n",
    "# difference is that\n",
    "# 1. they are represented using ()\n",
    "# 2. tuples are immutable\n",
    "# 3. tuples have fewer built-in methods compared to lists.\n",
    "\n",
    "# tuple is sequence of heterogeneous objects\n",
    "\n",
    "tup = (1, 'Tola', True, 87.98)\n",
    "tup"
   ]
  },
  {
   "cell_type": "code",
   "execution_count": 31,
   "id": "2e38e2f0-b7ec-4e01-86eb-c548d025b8cf",
   "metadata": {},
   "outputs": [
    {
     "ename": "TypeError",
     "evalue": "'tuple' object does not support item assignment",
     "output_type": "error",
     "traceback": [
      "\u001b[1;31m---------------------------------------------------------------------------\u001b[0m",
      "\u001b[1;31mTypeError\u001b[0m                                 Traceback (most recent call last)",
      "Cell \u001b[1;32mIn[31], line 1\u001b[0m\n\u001b[1;32m----> 1\u001b[0m tup[\u001b[38;5;241m1\u001b[39m] \u001b[38;5;241m=\u001b[39m \u001b[38;5;124m'\u001b[39m\u001b[38;5;124mMary\u001b[39m\u001b[38;5;124m'\u001b[39m\n",
      "\u001b[1;31mTypeError\u001b[0m: 'tuple' object does not support item assignment"
     ]
    }
   ],
   "source": [
    "tup[1] = 'Mary'"
   ]
  },
  {
   "cell_type": "code",
   "execution_count": 33,
   "id": "c24b72e8-b3a4-4ccc-aeaa-524f4c4a1226",
   "metadata": {},
   "outputs": [
    {
     "data": {
      "text/plain": [
       "2"
      ]
     },
     "execution_count": 33,
     "metadata": {},
     "output_type": "execute_result"
    }
   ],
   "source": [
    "# examples of built-in tuple methods are count, index\n",
    "tup1 = (1, 1, 2, 2, 2, 3, 4, 5)\n",
    "tup1.index(2)"
   ]
  },
  {
   "cell_type": "code",
   "execution_count": 35,
   "id": "8324d050-0673-42dd-92f5-2af7269ded33",
   "metadata": {},
   "outputs": [
    {
     "data": {
      "text/plain": [
       "7"
      ]
     },
     "execution_count": 35,
     "metadata": {},
     "output_type": "execute_result"
    }
   ],
   "source": [
    "tup1.index(5)"
   ]
  },
  {
   "cell_type": "code",
   "execution_count": 37,
   "id": "043b4c4c-9256-4815-943e-aa914f7a2078",
   "metadata": {},
   "outputs": [
    {
     "data": {
      "text/plain": [
       "2"
      ]
     },
     "execution_count": 37,
     "metadata": {},
     "output_type": "execute_result"
    }
   ],
   "source": [
    "tup1.count(1)"
   ]
  },
  {
   "cell_type": "code",
   "execution_count": 39,
   "id": "0fbf8ba4-0be0-45fb-82d7-886d7e52de0c",
   "metadata": {},
   "outputs": [
    {
     "data": {
      "text/plain": [
       "3"
      ]
     },
     "execution_count": 39,
     "metadata": {},
     "output_type": "execute_result"
    }
   ],
   "source": [
    "tup1.count(2)"
   ]
  },
  {
   "cell_type": "code",
   "execution_count": 43,
   "id": "f72c6f9b-fc26-4676-802d-2a96748bee53",
   "metadata": {},
   "outputs": [],
   "source": [
    "# index returns the position of an item in a tuple\n",
    "# count returns the number of occurences of an item in a tuple."
   ]
  },
  {
   "cell_type": "code",
   "execution_count": 45,
   "id": "3a7b48bd-0191-46e1-92b4-da94460ed336",
   "metadata": {},
   "outputs": [],
   "source": [
    "# sets\n",
    "# a set is unordered collection of unique items.\n",
    "number_set = set() # creates an empty set.\n",
    "number_set.add(1)\n",
    "number_set.add(2)"
   ]
  },
  {
   "cell_type": "code",
   "execution_count": 47,
   "id": "01268e67-8438-4d3f-adc7-467a6da290e5",
   "metadata": {},
   "outputs": [
    {
     "data": {
      "text/plain": [
       "{1, 2}"
      ]
     },
     "execution_count": 47,
     "metadata": {},
     "output_type": "execute_result"
    }
   ],
   "source": [
    "number_set"
   ]
  },
  {
   "cell_type": "code",
   "execution_count": 49,
   "id": "09003747-011d-42c8-af8d-dbf164673873",
   "metadata": {},
   "outputs": [],
   "source": [
    "number_set.add(1)"
   ]
  },
  {
   "cell_type": "code",
   "execution_count": 51,
   "id": "017beb81-de35-4323-80f1-efb9ab52329b",
   "metadata": {},
   "outputs": [
    {
     "data": {
      "text/plain": [
       "{1, 2}"
      ]
     },
     "execution_count": 51,
     "metadata": {},
     "output_type": "execute_result"
    }
   ],
   "source": [
    "number_set"
   ]
  },
  {
   "cell_type": "code",
   "execution_count": 55,
   "id": "b397d4cb-5f31-4ba5-a93b-998b404f6a38",
   "metadata": {},
   "outputs": [
    {
     "data": {
      "text/plain": [
       "{1, 2, 3, 4, 5}"
      ]
     },
     "execution_count": 55,
     "metadata": {},
     "output_type": "execute_result"
    }
   ],
   "source": [
    "number_list = [1,1,2,2,3,4,5,5]\n",
    "number_set = set(number_list)\n",
    "number_set"
   ]
  },
  {
   "cell_type": "code",
   "execution_count": 57,
   "id": "5c86342b-d6bb-4dd8-929c-814a377053be",
   "metadata": {},
   "outputs": [
    {
     "name": "stdout",
     "output_type": "stream",
     "text": [
      "True\n"
     ]
    }
   ],
   "source": [
    "# boolean\n",
    "# True, False\n",
    "answer = True\n",
    "print(answer)"
   ]
  },
  {
   "cell_type": "code",
   "execution_count": null,
   "id": "169f85b0-fd0e-451b-8150-b00e1a71f0e7",
   "metadata": {},
   "outputs": [],
   "source": []
  },
  {
   "cell_type": "code",
   "execution_count": null,
   "id": "0a3eaf2a-3607-4c0c-a383-faf6c1323b12",
   "metadata": {},
   "outputs": [],
   "source": []
  }
 ],
 "metadata": {
  "kernelspec": {
   "display_name": "Python 3 (ipykernel)",
   "language": "python",
   "name": "python3"
  },
  "language_info": {
   "codemirror_mode": {
    "name": "ipython",
    "version": 3
   },
   "file_extension": ".py",
   "mimetype": "text/x-python",
   "name": "python",
   "nbconvert_exporter": "python",
   "pygments_lexer": "ipython3",
   "version": "3.12.4"
  }
 },
 "nbformat": 4,
 "nbformat_minor": 5
}
