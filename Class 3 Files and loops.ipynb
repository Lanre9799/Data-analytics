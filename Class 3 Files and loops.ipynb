{
 "cells": [
  {
   "cell_type": "code",
   "execution_count": 9,
   "id": "7e4e8a50-ccb2-4b67-9b0d-2b883311ac3f",
   "metadata": {},
   "outputs": [
    {
     "name": "stdout",
     "output_type": "stream",
     "text": [
      "Hello world\n"
     ]
    }
   ],
   "source": [
    "# objects and data structures\n",
    "\"\"\"\n",
    "int, float - numbers\n",
    "strings, lists, tuples\n",
    "dict, set, boolean\n",
    "\n",
    "sequences- list, tuples, string\n",
    "indexing and slicing - applies to sequences\n",
    "immutability - string, tuples\n",
    "mutablity- list,dict\n",
    "order - string, list, tuples\n",
    "unordered - dict, set\n",
    "unique - set\n",
    "key-value pairs - dict\n",
    "\"\"\"\n",
    "\n",
    "# working with files.\n",
    "# - there are 2 types of files\n",
    "# - binary files and non-binary files\n",
    "# - e.g. of non-binary files are text files e.g. notepad.\n",
    "# - all else are considered binary files e.g. pdf, jpeg, png, all others.\n",
    "\n",
    "# - our objective is with non-binary or text files.\n",
    "# every file has a path, usually denoted with a driver letter.\n",
    "#\n",
    "\n",
    "# open a file\n",
    "# r - read mode\n",
    "# w - write mode\n",
    "# a - apend mode\n",
    "\n",
    "filename = open(\"c:/users/Admin/desktop/helloworld.txt\", \"r\")\n",
    "data = filename.read()\n",
    "filename.close()\n",
    "\n",
    "print(data)"
   ]
  },
  {
   "cell_type": "code",
   "execution_count": 11,
   "id": "5f2d8724-e69c-4bbe-ad24-c7de1ef40d1d",
   "metadata": {},
   "outputs": [],
   "source": [
    "# In write mode you can create new file\n",
    "filename = open(\"c:/users/Admin/desktop/newfile.txt\", \"w\")\n",
    "content = 'this is a new file to test file handling'\n",
    "filename.write(content)\n",
    "filename.close()\n"
   ]
  },
  {
   "cell_type": "code",
   "execution_count": 13,
   "id": "83ce4a6d-6ab5-4828-9ed7-dc028059fa0c",
   "metadata": {},
   "outputs": [
    {
     "name": "stdout",
     "output_type": "stream",
     "text": [
      "this is a new file to test file handling\n"
     ]
    }
   ],
   "source": [
    "filename = open(\"c:/users/Admin/desktop/newfile.txt\", \"r\")\n",
    "data = filename.read()\n",
    "filename.close()\n",
    "\n",
    "print(data)"
   ]
  },
  {
   "cell_type": "code",
   "execution_count": 17,
   "id": "7c10a399-abf7-4ef5-bc12-042c52a7a6ef",
   "metadata": {},
   "outputs": [
    {
     "name": "stdin",
     "output_type": "stream",
     "text": [
      "Enter your Age:  27\n"
     ]
    },
    {
     "name": "stdout",
     "output_type": "stream",
     "text": [
      "You are a young adult\n"
     ]
    }
   ],
   "source": [
    "# operators\n",
    "# w3schools\n",
    "\n",
    "# program control\n",
    "\"\"\"\n",
    "\n",
    "Every computational problem can be solved using sequential program control, decision statements, and loops.\n",
    "\"\"\"\n",
    "\n",
    "# decision statements\n",
    "# if, elif, else\n",
    "# write a simple program to determine if a person is a child, teenager, or adult\n",
    "\n",
    "age = input('Enter your Age: ')\n",
    "age = int(age)\n",
    "if age < 13:\n",
    "    print('You are a child')\n",
    "elif age >= 13 and age <= 19:\n",
    "    print('You are teenager')\n",
    "elif age >= 20 and age <= 35:\n",
    "    print('You are a young adult')\n",
    "else:\n",
    "    print('You are an adult.')\n"
   ]
  },
  {
   "cell_type": "code",
   "execution_count": 23,
   "id": "e259c4dc-6b2d-4a21-9587-3135525dff1f",
   "metadata": {},
   "outputs": [
    {
     "name": "stdout",
     "output_type": "stream",
     "text": [
      "2\n",
      "4\n",
      "6\n",
      "8\n",
      "10\n"
     ]
    }
   ],
   "source": [
    "# loops allow you perform the same task as many times as needed\n",
    "# type of loops- for, while loop\n",
    "# for loop applies to sequences.\n",
    "\n",
    "# write a program that displays only even numbers from a list of number\n",
    "numbers = [1,2,3,4,5,6,7,8,9,10]\n",
    "\n",
    "for n in numbers:\n",
    "    if n%2 == 0:\n",
    "        print(n)\n",
    "\n",
    "        \n",
    "    "
   ]
  },
  {
   "cell_type": "code",
   "execution_count": 27,
   "id": "52838561-50b6-4ab2-9631-95eda0fa89d8",
   "metadata": {},
   "outputs": [
    {
     "name": "stdout",
     "output_type": "stream",
     "text": [
      "letter p exists in the password\n"
     ]
    }
   ],
   "source": [
    "# check if letter 'p' exists in a password variable\n",
    "password = \"Englandp\"\n",
    "for char in password:\n",
    "    if char.lower() == 'p':\n",
    "        print('letter p exists in the password')"
   ]
  },
  {
   "cell_type": "code",
   "execution_count": null,
   "id": "adca7315-5d7d-47f0-85c0-d3b989bfb2ef",
   "metadata": {},
   "outputs": [],
   "source": [
    "# tuples, dictionaries\n",
    "# while loop\n",
    "# control loops using break, continue and pass"
   ]
  }
 ],
 "metadata": {
  "kernelspec": {
   "display_name": "Python 3 (ipykernel)",
   "language": "python",
   "name": "python3"
  },
  "language_info": {
   "codemirror_mode": {
    "name": "ipython",
    "version": 3
   },
   "file_extension": ".py",
   "mimetype": "text/x-python",
   "name": "python",
   "nbconvert_exporter": "python",
   "pygments_lexer": "ipython3",
   "version": "3.12.4"
  }
 },
 "nbformat": 4,
 "nbformat_minor": 5
}
