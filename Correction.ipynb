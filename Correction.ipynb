{
 "cells": [
  {
   "cell_type": "code",
   "execution_count": 7,
   "id": "9a89381b-261a-4f35-b914-c810041d9297",
   "metadata": {},
   "outputs": [
    {
     "data": {
      "text/plain": [
       "True"
      ]
     },
     "execution_count": 7,
     "metadata": {},
     "output_type": "execute_result"
    }
   ],
   "source": [
    "\"\"\"\n",
    "Write a function that takes in a list of integers and returns True if it contains 007 in\n",
    "order. [1, 2, 4, 0, 0, 7, 5] should return True while [1, 0, 2, 4, 0, 5, 7] should return\n",
    "True and, [1, 7, 2, 0, 4, 5, 0] should return False.\n",
    "\"\"\"\n",
    "def check_007(numlist):\n",
    "    temp_list = []\n",
    "    for num in numlist:\n",
    "        if (num == 0) or (num == 7):\n",
    "            temp_list.append(num)\n",
    "\n",
    "    # check the order of temp_list\n",
    "    if temp_list[0] == 0 and temp_list[1] == 0 and temp_list[2] == 7:\n",
    "        return True\n",
    "    else:\n",
    "        return False\n",
    "    \n",
    "\n",
    "numlist = [1, 2, 4, 0, 0, 7, 5]\n",
    "check_007(numlist)\n",
    "            "
   ]
  },
  {
   "cell_type": "code",
   "execution_count": 9,
   "id": "37d8857c-bd33-418e-88b0-2d8d26f6ea26",
   "metadata": {},
   "outputs": [
    {
     "data": {
      "text/plain": [
       "14"
      ]
     },
     "execution_count": 9,
     "metadata": {},
     "output_type": "execute_result"
    }
   ],
   "source": [
    "\"\"\"\n",
    "Return the sum of the numbers in an array excluding sections of numbers that have\n",
    "6 and extend to 9. E.g. [1, 3, 5] should return 9, [2, 5, 6, 7, 8, 9] should return 7,\n",
    "and, [2, 1, 6, 9, 11] should return 14.\n",
    "\"\"\"\n",
    "def return_sum(numlist):\n",
    "    result = 0\n",
    "    for num in numlist:\n",
    "        if num >= 6 and num <= 9:\n",
    "            pass\n",
    "        else:\n",
    "            result += num\n",
    "    return result\n",
    "return_sum([2,1,6,9,11])"
   ]
  },
  {
   "cell_type": "code",
   "execution_count": 31,
   "id": "1a4d2f49-906d-4888-b043-506b74b72eca",
   "metadata": {},
   "outputs": [
    {
     "data": {
      "text/plain": [
       "14"
      ]
     },
     "execution_count": 31,
     "metadata": {},
     "output_type": "execute_result"
    }
   ],
   "source": [
    "def return_sum(numlist):\n",
    "    result= 0\n",
    "    for num in numlist:\n",
    "        if 9 >= num >= 6:\n",
    "            pass\n",
    "        else:\n",
    "             result = result + num\n",
    "    return result\n",
    "            \n",
    "numlist = [2,1,6,9,11]\n",
    "return_sum(numlist)\n",
    "            "
   ]
  },
  {
   "cell_type": "code",
   "execution_count": 109,
   "id": "aad1d4fb-39bb-4c37-8bdd-1b0bb406526b",
   "metadata": {},
   "outputs": [
    {
     "data": {
      "text/plain": [
       "False"
      ]
     },
     "execution_count": 109,
     "metadata": {},
     "output_type": "execute_result"
    }
   ],
   "source": [
    "\"\"\"\n",
    "Given a list of integers, return True if the array contains a 3 next to a 3\n",
    "somewhere. E.g. [1, 3, 3] should return True, [1, 3, 1, 3] should return False while\n",
    "[3, 1, 3] should return False.\n",
    "\"\"\"\n",
    "def return_three(nums):\n",
    "   for i in range (0, len(nums)-1):\n",
    "       if nums[i] == 3 and nums[i+1] ==3:\n",
    "           return True\n",
    "       else:\n",
    "           return False\n",
    "\n",
    "return_three([1, 3, 3])\n"
   ]
  },
  {
   "cell_type": "code",
   "execution_count": 105,
   "id": "0a5d1866-2040-4dd2-ac86-454b5a624bd8",
   "metadata": {},
   "outputs": [
    {
     "data": {
      "text/plain": [
       "False"
      ]
     },
     "execution_count": 105,
     "metadata": {},
     "output_type": "execute_result"
    }
   ],
   "source": [
    "def return_3_next_to_3(numlist):\n",
    "    list = [ ]\n",
    "    for i in range(0, (len(numlist)-1)):\n",
    "        if numlist[i] == 3 and numlist[i+1] == 3:\n",
    "            list.append(numlist[i])\n",
    "            list.append(numlist[i+1])\n",
    "            if (list[0]==3) and (list[1]==3):\n",
    "                return True\n",
    "        else:\n",
    "            return False\n",
    "\n",
    "return_3_next_to_3([1, 3, 3])"
   ]
  },
  {
   "cell_type": "code",
   "execution_count": null,
   "id": "43bfa406-6ce3-42da-ab45-8381da1effba",
   "metadata": {},
   "outputs": [],
   "source": []
  },
  {
   "cell_type": "code",
   "execution_count": null,
   "id": "afd2aa60-4e52-4fa6-b052-9a5d391a67d1",
   "metadata": {},
   "outputs": [],
   "source": []
  }
 ],
 "metadata": {
  "kernelspec": {
   "display_name": "Python 3 (ipykernel)",
   "language": "python",
   "name": "python3"
  },
  "language_info": {
   "codemirror_mode": {
    "name": "ipython",
    "version": 3
   },
   "file_extension": ".py",
   "mimetype": "text/x-python",
   "name": "python",
   "nbconvert_exporter": "python",
   "pygments_lexer": "ipython3",
   "version": "3.12.4"
  }
 },
 "nbformat": 4,
 "nbformat_minor": 5
}
