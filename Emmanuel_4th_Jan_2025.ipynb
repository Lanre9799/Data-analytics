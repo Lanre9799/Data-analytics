{
 "cells": [
  {
   "cell_type": "code",
   "execution_count": 1,
   "id": "9e32ed18-05cd-4eb0-994e-a87fb3d1fecf",
   "metadata": {},
   "outputs": [
    {
     "data": {
      "text/plain": [
       "'\\nhttps://www.pythontutorial.net/python-numpy/\\n'"
      ]
     },
     "execution_count": 1,
     "metadata": {},
     "output_type": "execute_result"
    }
   ],
   "source": [
    "# further resources for Numpy\n",
    "\"\"\"\n",
    "https://www.pythontutorial.net/python-numpy/\n",
    "\"\"\"\n"
   ]
  },
  {
   "cell_type": "code",
   "execution_count": 3,
   "id": "dba32bfe-f83b-43b8-86c1-cb8f1a394078",
   "metadata": {},
   "outputs": [
    {
     "data": {
      "text/html": [
       "<div>\n",
       "<style scoped>\n",
       "    .dataframe tbody tr th:only-of-type {\n",
       "        vertical-align: middle;\n",
       "    }\n",
       "\n",
       "    .dataframe tbody tr th {\n",
       "        vertical-align: top;\n",
       "    }\n",
       "\n",
       "    .dataframe thead th {\n",
       "        text-align: right;\n",
       "    }\n",
       "</style>\n",
       "<table border=\"1\" class=\"dataframe\">\n",
       "  <thead>\n",
       "    <tr style=\"text-align: right;\">\n",
       "      <th></th>\n",
       "      <th>names</th>\n",
       "      <th>scores</th>\n",
       "      <th>grades</th>\n",
       "      <th>gender</th>\n",
       "      <th>emails</th>\n",
       "    </tr>\n",
       "  </thead>\n",
       "  <tbody>\n",
       "    <tr>\n",
       "      <th>0</th>\n",
       "      <td>Tola</td>\n",
       "      <td>40</td>\n",
       "      <td>E</td>\n",
       "      <td>M</td>\n",
       "      <td>tola@gmail.com</td>\n",
       "    </tr>\n",
       "    <tr>\n",
       "      <th>1</th>\n",
       "      <td>Tosin</td>\n",
       "      <td>60</td>\n",
       "      <td>B</td>\n",
       "      <td>F</td>\n",
       "      <td>tosin@gmail.com</td>\n",
       "    </tr>\n",
       "    <tr>\n",
       "      <th>2</th>\n",
       "      <td>Tobi</td>\n",
       "      <td>70</td>\n",
       "      <td>A</td>\n",
       "      <td>M</td>\n",
       "      <td>tobi@gmail.com</td>\n",
       "    </tr>\n",
       "    <tr>\n",
       "      <th>3</th>\n",
       "      <td>Titi</td>\n",
       "      <td>54</td>\n",
       "      <td>C</td>\n",
       "      <td>F</td>\n",
       "      <td>titi@gmail.com</td>\n",
       "    </tr>\n",
       "    <tr>\n",
       "      <th>4</th>\n",
       "      <td>Tayo</td>\n",
       "      <td>90</td>\n",
       "      <td>A</td>\n",
       "      <td>F</td>\n",
       "      <td>tayo@gmail.com</td>\n",
       "    </tr>\n",
       "    <tr>\n",
       "      <th>5</th>\n",
       "      <td>Tolu</td>\n",
       "      <td>63</td>\n",
       "      <td>B</td>\n",
       "      <td>F</td>\n",
       "      <td>tolu@gmail.com</td>\n",
       "    </tr>\n",
       "    <tr>\n",
       "      <th>6</th>\n",
       "      <td>Tom</td>\n",
       "      <td>82</td>\n",
       "      <td>A</td>\n",
       "      <td>M</td>\n",
       "      <td>tom@gmail.com</td>\n",
       "    </tr>\n",
       "  </tbody>\n",
       "</table>\n",
       "</div>"
      ],
      "text/plain": [
       "   names  scores grades gender           emails\n",
       "0   Tola      40      E      M   tola@gmail.com\n",
       "1  Tosin      60      B      F  tosin@gmail.com\n",
       "2   Tobi      70      A      M   tobi@gmail.com\n",
       "3   Titi      54      C      F   titi@gmail.com\n",
       "4   Tayo      90      A      F   tayo@gmail.com\n",
       "5   Tolu      63      B      F   tolu@gmail.com\n",
       "6    Tom      82      A      M    tom@gmail.com"
      ]
     },
     "execution_count": 3,
     "metadata": {},
     "output_type": "execute_result"
    }
   ],
   "source": [
    "import pandas as pd\n",
    "results = {\n",
    "    'names' : ['Tola', 'Tosin', 'Tobi', 'Titi', 'Tayo', 'Tolu', 'Tom'],\n",
    "    'scores': [40, 60, 70, 54, 90, 63, 82],\n",
    "    'grades': ['E', 'B', 'A', 'C', 'A', 'B', 'A'],\n",
    "    'gender': ['M', 'F', 'M', 'F', 'F', 'F', 'M'],\n",
    "    'emails': ['tola@gmail.com', 'tosin@gmail.com', 'tobi@gmail.com', 'titi@gmail.com', 'tayo@gmail.com', 'tolu@gmail.com', 'tom@gmail.com']\n",
    "}\n",
    "\n",
    "df = pd.DataFrame(results)\n",
    "df"
   ]
  },
  {
   "cell_type": "code",
   "execution_count": 5,
   "id": "3fc61011-05e1-40ab-a39a-1fb0d8ec0e43",
   "metadata": {},
   "outputs": [
    {
     "data": {
      "text/html": [
       "<div>\n",
       "<style scoped>\n",
       "    .dataframe tbody tr th:only-of-type {\n",
       "        vertical-align: middle;\n",
       "    }\n",
       "\n",
       "    .dataframe tbody tr th {\n",
       "        vertical-align: top;\n",
       "    }\n",
       "\n",
       "    .dataframe thead th {\n",
       "        text-align: right;\n",
       "    }\n",
       "</style>\n",
       "<table border=\"1\" class=\"dataframe\">\n",
       "  <thead>\n",
       "    <tr style=\"text-align: right;\">\n",
       "      <th></th>\n",
       "      <th>names</th>\n",
       "      <th>scores</th>\n",
       "      <th>grades</th>\n",
       "      <th>gender</th>\n",
       "      <th>emails</th>\n",
       "    </tr>\n",
       "  </thead>\n",
       "  <tbody>\n",
       "    <tr>\n",
       "      <th>0</th>\n",
       "      <td>Tola</td>\n",
       "      <td>40</td>\n",
       "      <td>E</td>\n",
       "      <td>M</td>\n",
       "      <td>tola@gmail.com</td>\n",
       "    </tr>\n",
       "    <tr>\n",
       "      <th>3</th>\n",
       "      <td>Titi</td>\n",
       "      <td>54</td>\n",
       "      <td>C</td>\n",
       "      <td>F</td>\n",
       "      <td>titi@gmail.com</td>\n",
       "    </tr>\n",
       "    <tr>\n",
       "      <th>1</th>\n",
       "      <td>Tosin</td>\n",
       "      <td>60</td>\n",
       "      <td>B</td>\n",
       "      <td>F</td>\n",
       "      <td>tosin@gmail.com</td>\n",
       "    </tr>\n",
       "    <tr>\n",
       "      <th>5</th>\n",
       "      <td>Tolu</td>\n",
       "      <td>63</td>\n",
       "      <td>B</td>\n",
       "      <td>F</td>\n",
       "      <td>tolu@gmail.com</td>\n",
       "    </tr>\n",
       "    <tr>\n",
       "      <th>2</th>\n",
       "      <td>Tobi</td>\n",
       "      <td>70</td>\n",
       "      <td>A</td>\n",
       "      <td>M</td>\n",
       "      <td>tobi@gmail.com</td>\n",
       "    </tr>\n",
       "    <tr>\n",
       "      <th>6</th>\n",
       "      <td>Tom</td>\n",
       "      <td>82</td>\n",
       "      <td>A</td>\n",
       "      <td>M</td>\n",
       "      <td>tom@gmail.com</td>\n",
       "    </tr>\n",
       "    <tr>\n",
       "      <th>4</th>\n",
       "      <td>Tayo</td>\n",
       "      <td>90</td>\n",
       "      <td>A</td>\n",
       "      <td>F</td>\n",
       "      <td>tayo@gmail.com</td>\n",
       "    </tr>\n",
       "  </tbody>\n",
       "</table>\n",
       "</div>"
      ],
      "text/plain": [
       "   names  scores grades gender           emails\n",
       "0   Tola      40      E      M   tola@gmail.com\n",
       "3   Titi      54      C      F   titi@gmail.com\n",
       "1  Tosin      60      B      F  tosin@gmail.com\n",
       "5   Tolu      63      B      F   tolu@gmail.com\n",
       "2   Tobi      70      A      M   tobi@gmail.com\n",
       "6    Tom      82      A      M    tom@gmail.com\n",
       "4   Tayo      90      A      F   tayo@gmail.com"
      ]
     },
     "execution_count": 5,
     "metadata": {},
     "output_type": "execute_result"
    }
   ],
   "source": [
    "# sorting data\n",
    "df.sort_values(by='scores')"
   ]
  },
  {
   "cell_type": "code",
   "execution_count": 7,
   "id": "c78e55a3-6088-42c6-80c2-702cc5ed949a",
   "metadata": {},
   "outputs": [
    {
     "data": {
      "text/html": [
       "<div>\n",
       "<style scoped>\n",
       "    .dataframe tbody tr th:only-of-type {\n",
       "        vertical-align: middle;\n",
       "    }\n",
       "\n",
       "    .dataframe tbody tr th {\n",
       "        vertical-align: top;\n",
       "    }\n",
       "\n",
       "    .dataframe thead th {\n",
       "        text-align: right;\n",
       "    }\n",
       "</style>\n",
       "<table border=\"1\" class=\"dataframe\">\n",
       "  <thead>\n",
       "    <tr style=\"text-align: right;\">\n",
       "      <th></th>\n",
       "      <th>names</th>\n",
       "      <th>scores</th>\n",
       "      <th>grades</th>\n",
       "      <th>gender</th>\n",
       "      <th>emails</th>\n",
       "    </tr>\n",
       "  </thead>\n",
       "  <tbody>\n",
       "    <tr>\n",
       "      <th>4</th>\n",
       "      <td>Tayo</td>\n",
       "      <td>90</td>\n",
       "      <td>A</td>\n",
       "      <td>F</td>\n",
       "      <td>tayo@gmail.com</td>\n",
       "    </tr>\n",
       "    <tr>\n",
       "      <th>6</th>\n",
       "      <td>Tom</td>\n",
       "      <td>82</td>\n",
       "      <td>A</td>\n",
       "      <td>M</td>\n",
       "      <td>tom@gmail.com</td>\n",
       "    </tr>\n",
       "    <tr>\n",
       "      <th>2</th>\n",
       "      <td>Tobi</td>\n",
       "      <td>70</td>\n",
       "      <td>A</td>\n",
       "      <td>M</td>\n",
       "      <td>tobi@gmail.com</td>\n",
       "    </tr>\n",
       "    <tr>\n",
       "      <th>5</th>\n",
       "      <td>Tolu</td>\n",
       "      <td>63</td>\n",
       "      <td>B</td>\n",
       "      <td>F</td>\n",
       "      <td>tolu@gmail.com</td>\n",
       "    </tr>\n",
       "    <tr>\n",
       "      <th>1</th>\n",
       "      <td>Tosin</td>\n",
       "      <td>60</td>\n",
       "      <td>B</td>\n",
       "      <td>F</td>\n",
       "      <td>tosin@gmail.com</td>\n",
       "    </tr>\n",
       "    <tr>\n",
       "      <th>3</th>\n",
       "      <td>Titi</td>\n",
       "      <td>54</td>\n",
       "      <td>C</td>\n",
       "      <td>F</td>\n",
       "      <td>titi@gmail.com</td>\n",
       "    </tr>\n",
       "    <tr>\n",
       "      <th>0</th>\n",
       "      <td>Tola</td>\n",
       "      <td>40</td>\n",
       "      <td>E</td>\n",
       "      <td>M</td>\n",
       "      <td>tola@gmail.com</td>\n",
       "    </tr>\n",
       "  </tbody>\n",
       "</table>\n",
       "</div>"
      ],
      "text/plain": [
       "   names  scores grades gender           emails\n",
       "4   Tayo      90      A      F   tayo@gmail.com\n",
       "6    Tom      82      A      M    tom@gmail.com\n",
       "2   Tobi      70      A      M   tobi@gmail.com\n",
       "5   Tolu      63      B      F   tolu@gmail.com\n",
       "1  Tosin      60      B      F  tosin@gmail.com\n",
       "3   Titi      54      C      F   titi@gmail.com\n",
       "0   Tola      40      E      M   tola@gmail.com"
      ]
     },
     "execution_count": 7,
     "metadata": {},
     "output_type": "execute_result"
    }
   ],
   "source": [
    "# sorting data\n",
    "df.sort_values(by='scores', ascending=False)"
   ]
  },
  {
   "cell_type": "code",
   "execution_count": 9,
   "id": "0096b81e-4c9d-459b-8f1f-1982d44fdc0d",
   "metadata": {},
   "outputs": [
    {
     "data": {
      "text/plain": [
       "4     Tayo\n",
       "3     Titi\n",
       "2     Tobi\n",
       "0     Tola\n",
       "5     Tolu\n",
       "6      Tom\n",
       "1    Tosin\n",
       "Name: names, dtype: object"
      ]
     },
     "execution_count": 9,
     "metadata": {},
     "output_type": "execute_result"
    }
   ],
   "source": [
    "df['names'].sort_values()"
   ]
  },
  {
   "cell_type": "code",
   "execution_count": 11,
   "id": "9851a225-e00c-487d-9a97-5433ff412a25",
   "metadata": {},
   "outputs": [
    {
     "data": {
      "text/html": [
       "<div>\n",
       "<style scoped>\n",
       "    .dataframe tbody tr th:only-of-type {\n",
       "        vertical-align: middle;\n",
       "    }\n",
       "\n",
       "    .dataframe tbody tr th {\n",
       "        vertical-align: top;\n",
       "    }\n",
       "\n",
       "    .dataframe thead th {\n",
       "        text-align: right;\n",
       "    }\n",
       "</style>\n",
       "<table border=\"1\" class=\"dataframe\">\n",
       "  <thead>\n",
       "    <tr style=\"text-align: right;\">\n",
       "      <th></th>\n",
       "      <th>names</th>\n",
       "      <th>scores</th>\n",
       "      <th>grades</th>\n",
       "      <th>gender</th>\n",
       "      <th>emails</th>\n",
       "    </tr>\n",
       "  </thead>\n",
       "  <tbody>\n",
       "    <tr>\n",
       "      <th>0</th>\n",
       "      <td>Tola</td>\n",
       "      <td>40</td>\n",
       "      <td>E</td>\n",
       "      <td>M</td>\n",
       "      <td>tola@gmail.com</td>\n",
       "    </tr>\n",
       "    <tr>\n",
       "      <th>3</th>\n",
       "      <td>Titi</td>\n",
       "      <td>54</td>\n",
       "      <td>C</td>\n",
       "      <td>F</td>\n",
       "      <td>titi@gmail.com</td>\n",
       "    </tr>\n",
       "    <tr>\n",
       "      <th>1</th>\n",
       "      <td>Tosin</td>\n",
       "      <td>60</td>\n",
       "      <td>B</td>\n",
       "      <td>F</td>\n",
       "      <td>tosin@gmail.com</td>\n",
       "    </tr>\n",
       "    <tr>\n",
       "      <th>5</th>\n",
       "      <td>Tolu</td>\n",
       "      <td>63</td>\n",
       "      <td>B</td>\n",
       "      <td>F</td>\n",
       "      <td>tolu@gmail.com</td>\n",
       "    </tr>\n",
       "    <tr>\n",
       "      <th>2</th>\n",
       "      <td>Tobi</td>\n",
       "      <td>70</td>\n",
       "      <td>A</td>\n",
       "      <td>M</td>\n",
       "      <td>tobi@gmail.com</td>\n",
       "    </tr>\n",
       "    <tr>\n",
       "      <th>4</th>\n",
       "      <td>Tayo</td>\n",
       "      <td>90</td>\n",
       "      <td>A</td>\n",
       "      <td>F</td>\n",
       "      <td>tayo@gmail.com</td>\n",
       "    </tr>\n",
       "    <tr>\n",
       "      <th>6</th>\n",
       "      <td>Tom</td>\n",
       "      <td>82</td>\n",
       "      <td>A</td>\n",
       "      <td>M</td>\n",
       "      <td>tom@gmail.com</td>\n",
       "    </tr>\n",
       "  </tbody>\n",
       "</table>\n",
       "</div>"
      ],
      "text/plain": [
       "   names  scores grades gender           emails\n",
       "0   Tola      40      E      M   tola@gmail.com\n",
       "3   Titi      54      C      F   titi@gmail.com\n",
       "1  Tosin      60      B      F  tosin@gmail.com\n",
       "5   Tolu      63      B      F   tolu@gmail.com\n",
       "2   Tobi      70      A      M   tobi@gmail.com\n",
       "4   Tayo      90      A      F   tayo@gmail.com\n",
       "6    Tom      82      A      M    tom@gmail.com"
      ]
     },
     "execution_count": 11,
     "metadata": {},
     "output_type": "execute_result"
    }
   ],
   "source": [
    "# sorting data\n",
    "df.sort_values(by='grades', ascending=False)"
   ]
  },
  {
   "cell_type": "code",
   "execution_count": 13,
   "id": "b664fb2c-668f-4ec2-abba-638b3cd7f4f9",
   "metadata": {},
   "outputs": [
    {
     "data": {
      "text/html": [
       "<div>\n",
       "<style scoped>\n",
       "    .dataframe tbody tr th:only-of-type {\n",
       "        vertical-align: middle;\n",
       "    }\n",
       "\n",
       "    .dataframe tbody tr th {\n",
       "        vertical-align: top;\n",
       "    }\n",
       "\n",
       "    .dataframe thead th {\n",
       "        text-align: right;\n",
       "    }\n",
       "</style>\n",
       "<table border=\"1\" class=\"dataframe\">\n",
       "  <thead>\n",
       "    <tr style=\"text-align: right;\">\n",
       "      <th></th>\n",
       "      <th>names</th>\n",
       "      <th>scores</th>\n",
       "      <th>grades</th>\n",
       "      <th>gender</th>\n",
       "      <th>emails</th>\n",
       "    </tr>\n",
       "  </thead>\n",
       "  <tbody>\n",
       "    <tr>\n",
       "      <th>0</th>\n",
       "      <td>Tola</td>\n",
       "      <td>40</td>\n",
       "      <td>E</td>\n",
       "      <td>M</td>\n",
       "      <td>tola@gmail.com</td>\n",
       "    </tr>\n",
       "    <tr>\n",
       "      <th>3</th>\n",
       "      <td>Titi</td>\n",
       "      <td>54</td>\n",
       "      <td>C</td>\n",
       "      <td>F</td>\n",
       "      <td>titi@gmail.com</td>\n",
       "    </tr>\n",
       "    <tr>\n",
       "      <th>1</th>\n",
       "      <td>Tosin</td>\n",
       "      <td>60</td>\n",
       "      <td>B</td>\n",
       "      <td>F</td>\n",
       "      <td>tosin@gmail.com</td>\n",
       "    </tr>\n",
       "    <tr>\n",
       "      <th>5</th>\n",
       "      <td>Tolu</td>\n",
       "      <td>63</td>\n",
       "      <td>B</td>\n",
       "      <td>F</td>\n",
       "      <td>tolu@gmail.com</td>\n",
       "    </tr>\n",
       "    <tr>\n",
       "      <th>2</th>\n",
       "      <td>Tobi</td>\n",
       "      <td>70</td>\n",
       "      <td>A</td>\n",
       "      <td>M</td>\n",
       "      <td>tobi@gmail.com</td>\n",
       "    </tr>\n",
       "    <tr>\n",
       "      <th>6</th>\n",
       "      <td>Tom</td>\n",
       "      <td>82</td>\n",
       "      <td>A</td>\n",
       "      <td>M</td>\n",
       "      <td>tom@gmail.com</td>\n",
       "    </tr>\n",
       "    <tr>\n",
       "      <th>4</th>\n",
       "      <td>Tayo</td>\n",
       "      <td>90</td>\n",
       "      <td>A</td>\n",
       "      <td>F</td>\n",
       "      <td>tayo@gmail.com</td>\n",
       "    </tr>\n",
       "  </tbody>\n",
       "</table>\n",
       "</div>"
      ],
      "text/plain": [
       "   names  scores grades gender           emails\n",
       "0   Tola      40      E      M   tola@gmail.com\n",
       "3   Titi      54      C      F   titi@gmail.com\n",
       "1  Tosin      60      B      F  tosin@gmail.com\n",
       "5   Tolu      63      B      F   tolu@gmail.com\n",
       "2   Tobi      70      A      M   tobi@gmail.com\n",
       "6    Tom      82      A      M    tom@gmail.com\n",
       "4   Tayo      90      A      F   tayo@gmail.com"
      ]
     },
     "execution_count": 13,
     "metadata": {},
     "output_type": "execute_result"
    }
   ],
   "source": [
    "# sorting data using multiple columns\n",
    "df.sort_values(by=['grades', 'scores'], ascending=[False, True])"
   ]
  },
  {
   "cell_type": "code",
   "execution_count": 15,
   "id": "001cff5a-19ca-4da5-8a99-9cfada78f3fe",
   "metadata": {},
   "outputs": [
    {
     "data": {
      "text/html": [
       "<div>\n",
       "<style scoped>\n",
       "    .dataframe tbody tr th:only-of-type {\n",
       "        vertical-align: middle;\n",
       "    }\n",
       "\n",
       "    .dataframe tbody tr th {\n",
       "        vertical-align: top;\n",
       "    }\n",
       "\n",
       "    .dataframe thead th {\n",
       "        text-align: right;\n",
       "    }\n",
       "</style>\n",
       "<table border=\"1\" class=\"dataframe\">\n",
       "  <thead>\n",
       "    <tr style=\"text-align: right;\">\n",
       "      <th></th>\n",
       "      <th>scores</th>\n",
       "    </tr>\n",
       "  </thead>\n",
       "  <tbody>\n",
       "    <tr>\n",
       "      <th>count</th>\n",
       "      <td>7.000000</td>\n",
       "    </tr>\n",
       "    <tr>\n",
       "      <th>mean</th>\n",
       "      <td>65.571429</td>\n",
       "    </tr>\n",
       "    <tr>\n",
       "      <th>std</th>\n",
       "      <td>16.890403</td>\n",
       "    </tr>\n",
       "    <tr>\n",
       "      <th>min</th>\n",
       "      <td>40.000000</td>\n",
       "    </tr>\n",
       "    <tr>\n",
       "      <th>25%</th>\n",
       "      <td>57.000000</td>\n",
       "    </tr>\n",
       "    <tr>\n",
       "      <th>50%</th>\n",
       "      <td>63.000000</td>\n",
       "    </tr>\n",
       "    <tr>\n",
       "      <th>75%</th>\n",
       "      <td>76.000000</td>\n",
       "    </tr>\n",
       "    <tr>\n",
       "      <th>max</th>\n",
       "      <td>90.000000</td>\n",
       "    </tr>\n",
       "  </tbody>\n",
       "</table>\n",
       "</div>"
      ],
      "text/plain": [
       "          scores\n",
       "count   7.000000\n",
       "mean   65.571429\n",
       "std    16.890403\n",
       "min    40.000000\n",
       "25%    57.000000\n",
       "50%    63.000000\n",
       "75%    76.000000\n",
       "max    90.000000"
      ]
     },
     "execution_count": 15,
     "metadata": {},
     "output_type": "execute_result"
    }
   ],
   "source": [
    "# grouping and aggregating data\n",
    "# aggregating using describe()\n",
    "df.describe()"
   ]
  },
  {
   "cell_type": "code",
   "execution_count": 17,
   "id": "1aed7302-c6db-441d-a141-b69d94a56d29",
   "metadata": {},
   "outputs": [
    {
     "data": {
      "text/plain": [
       "63.0"
      ]
     },
     "execution_count": 17,
     "metadata": {},
     "output_type": "execute_result"
    }
   ],
   "source": [
    "df['scores'].median()"
   ]
  },
  {
   "cell_type": "code",
   "execution_count": 19,
   "id": "a8f2c2ae-c41c-480b-bc10-526294a0a0e8",
   "metadata": {},
   "outputs": [
    {
     "data": {
      "text/plain": [
       "65.57142857142857"
      ]
     },
     "execution_count": 19,
     "metadata": {},
     "output_type": "execute_result"
    }
   ],
   "source": [
    "df['scores'].mean()"
   ]
  },
  {
   "cell_type": "code",
   "execution_count": 21,
   "id": "19c20e09-f223-46f1-bde2-04ca9ce07d37",
   "metadata": {},
   "outputs": [
    {
     "data": {
      "text/plain": [
       "459"
      ]
     },
     "execution_count": 21,
     "metadata": {},
     "output_type": "execute_result"
    }
   ],
   "source": [
    "df['scores'].sum()"
   ]
  },
  {
   "cell_type": "code",
   "execution_count": 25,
   "id": "941297cc-9325-4dcf-8043-afe8508815e9",
   "metadata": {},
   "outputs": [
    {
     "data": {
      "text/plain": [
       "<pandas.core.groupby.generic.DataFrameGroupBy object at 0x00000136BD357A50>"
      ]
     },
     "execution_count": 25,
     "metadata": {},
     "output_type": "execute_result"
    }
   ],
   "source": [
    "df.groupby('gender')"
   ]
  },
  {
   "cell_type": "code",
   "execution_count": 27,
   "id": "7fe21810-b4db-468e-a054-6be47bc06b9c",
   "metadata": {},
   "outputs": [
    {
     "data": {
      "text/plain": [
       "{'F': [1, 3, 4, 5], 'M': [0, 2, 6]}"
      ]
     },
     "execution_count": 27,
     "metadata": {},
     "output_type": "execute_result"
    }
   ],
   "source": [
    "# groups property shows each group and the row index for each group in a dictionary\n",
    "gender_group = df.groupby('gender')\n",
    "gender_group.groups"
   ]
  },
  {
   "cell_type": "code",
   "execution_count": 31,
   "id": "a393994e-5a9b-47f9-9391-c97f83cb7d98",
   "metadata": {},
   "outputs": [
    {
     "data": {
      "text/plain": [
       "2"
      ]
     },
     "execution_count": 31,
     "metadata": {},
     "output_type": "execute_result"
    }
   ],
   "source": [
    "# ngroups property shows the number of groups found.\n",
    "gender_group.ngroups"
   ]
  },
  {
   "cell_type": "code",
   "execution_count": 33,
   "id": "d788421b-f7b0-49f9-8a99-3b5c3a95e20b",
   "metadata": {},
   "outputs": [
    {
     "data": {
      "text/plain": [
       "dict_keys(['F', 'M'])"
      ]
     },
     "execution_count": 33,
     "metadata": {},
     "output_type": "execute_result"
    }
   ],
   "source": [
    "# shows each group name.\n",
    "gender_group.groups.keys()"
   ]
  },
  {
   "cell_type": "code",
   "execution_count": 35,
   "id": "5301e2f6-1b69-4178-803b-26a92bc476c1",
   "metadata": {},
   "outputs": [
    {
     "data": {
      "text/html": [
       "<div>\n",
       "<style scoped>\n",
       "    .dataframe tbody tr th:only-of-type {\n",
       "        vertical-align: middle;\n",
       "    }\n",
       "\n",
       "    .dataframe tbody tr th {\n",
       "        vertical-align: top;\n",
       "    }\n",
       "\n",
       "    .dataframe thead th {\n",
       "        text-align: right;\n",
       "    }\n",
       "</style>\n",
       "<table border=\"1\" class=\"dataframe\">\n",
       "  <thead>\n",
       "    <tr style=\"text-align: right;\">\n",
       "      <th></th>\n",
       "      <th>names</th>\n",
       "      <th>scores</th>\n",
       "      <th>grades</th>\n",
       "      <th>gender</th>\n",
       "      <th>emails</th>\n",
       "    </tr>\n",
       "  </thead>\n",
       "  <tbody>\n",
       "    <tr>\n",
       "      <th>1</th>\n",
       "      <td>Tosin</td>\n",
       "      <td>60</td>\n",
       "      <td>B</td>\n",
       "      <td>F</td>\n",
       "      <td>tosin@gmail.com</td>\n",
       "    </tr>\n",
       "    <tr>\n",
       "      <th>3</th>\n",
       "      <td>Titi</td>\n",
       "      <td>54</td>\n",
       "      <td>C</td>\n",
       "      <td>F</td>\n",
       "      <td>titi@gmail.com</td>\n",
       "    </tr>\n",
       "    <tr>\n",
       "      <th>4</th>\n",
       "      <td>Tayo</td>\n",
       "      <td>90</td>\n",
       "      <td>A</td>\n",
       "      <td>F</td>\n",
       "      <td>tayo@gmail.com</td>\n",
       "    </tr>\n",
       "    <tr>\n",
       "      <th>5</th>\n",
       "      <td>Tolu</td>\n",
       "      <td>63</td>\n",
       "      <td>B</td>\n",
       "      <td>F</td>\n",
       "      <td>tolu@gmail.com</td>\n",
       "    </tr>\n",
       "  </tbody>\n",
       "</table>\n",
       "</div>"
      ],
      "text/plain": [
       "   names  scores grades gender           emails\n",
       "1  Tosin      60      B      F  tosin@gmail.com\n",
       "3   Titi      54      C      F   titi@gmail.com\n",
       "4   Tayo      90      A      F   tayo@gmail.com\n",
       "5   Tolu      63      B      F   tolu@gmail.com"
      ]
     },
     "execution_count": 35,
     "metadata": {},
     "output_type": "execute_result"
    }
   ],
   "source": [
    "# get_group will return the data for the selected group\n",
    "gender_group.get_group('F')"
   ]
  },
  {
   "cell_type": "code",
   "execution_count": 37,
   "id": "3ec00864-9814-438d-856e-89354cf460f9",
   "metadata": {},
   "outputs": [
    {
     "data": {
      "text/html": [
       "<div>\n",
       "<style scoped>\n",
       "    .dataframe tbody tr th:only-of-type {\n",
       "        vertical-align: middle;\n",
       "    }\n",
       "\n",
       "    .dataframe tbody tr th {\n",
       "        vertical-align: top;\n",
       "    }\n",
       "\n",
       "    .dataframe thead th {\n",
       "        text-align: right;\n",
       "    }\n",
       "</style>\n",
       "<table border=\"1\" class=\"dataframe\">\n",
       "  <thead>\n",
       "    <tr style=\"text-align: right;\">\n",
       "      <th></th>\n",
       "      <th>names</th>\n",
       "      <th>scores</th>\n",
       "      <th>grades</th>\n",
       "      <th>gender</th>\n",
       "      <th>emails</th>\n",
       "    </tr>\n",
       "  </thead>\n",
       "  <tbody>\n",
       "    <tr>\n",
       "      <th>0</th>\n",
       "      <td>Tola</td>\n",
       "      <td>40</td>\n",
       "      <td>E</td>\n",
       "      <td>M</td>\n",
       "      <td>tola@gmail.com</td>\n",
       "    </tr>\n",
       "    <tr>\n",
       "      <th>2</th>\n",
       "      <td>Tobi</td>\n",
       "      <td>70</td>\n",
       "      <td>A</td>\n",
       "      <td>M</td>\n",
       "      <td>tobi@gmail.com</td>\n",
       "    </tr>\n",
       "    <tr>\n",
       "      <th>6</th>\n",
       "      <td>Tom</td>\n",
       "      <td>82</td>\n",
       "      <td>A</td>\n",
       "      <td>M</td>\n",
       "      <td>tom@gmail.com</td>\n",
       "    </tr>\n",
       "  </tbody>\n",
       "</table>\n",
       "</div>"
      ],
      "text/plain": [
       "  names  scores grades gender          emails\n",
       "0  Tola      40      E      M  tola@gmail.com\n",
       "2  Tobi      70      A      M  tobi@gmail.com\n",
       "6   Tom      82      A      M   tom@gmail.com"
      ]
     },
     "execution_count": 37,
     "metadata": {},
     "output_type": "execute_result"
    }
   ],
   "source": [
    "gender_group.get_group('M')"
   ]
  },
  {
   "cell_type": "code",
   "execution_count": 39,
   "id": "88cb9ed0-855e-412c-a5b0-db07929ab8ff",
   "metadata": {},
   "outputs": [
    {
     "data": {
      "text/plain": [
       "names               Tom\n",
       "scores               82\n",
       "grades                E\n",
       "gender                M\n",
       "emails    tom@gmail.com\n",
       "dtype: object"
      ]
     },
     "execution_count": 39,
     "metadata": {},
     "output_type": "execute_result"
    }
   ],
   "source": [
    "gender_group.get_group('M').max()"
   ]
  },
  {
   "cell_type": "code",
   "execution_count": 41,
   "id": "f3686cb8-e2ef-4d70-8662-7ea944f25935",
   "metadata": {},
   "outputs": [
    {
     "data": {
      "text/plain": [
       "names               Tosin\n",
       "scores                 90\n",
       "grades                  C\n",
       "gender                  F\n",
       "emails    tosin@gmail.com\n",
       "dtype: object"
      ]
     },
     "execution_count": 41,
     "metadata": {},
     "output_type": "execute_result"
    }
   ],
   "source": [
    "gender_group.get_group('F').max()"
   ]
  },
  {
   "cell_type": "code",
   "execution_count": 43,
   "id": "f9e02578-a9ad-4795-ba56-820c0f51506c",
   "metadata": {},
   "outputs": [
    {
     "data": {
      "text/html": [
       "<div>\n",
       "<style scoped>\n",
       "    .dataframe tbody tr th:only-of-type {\n",
       "        vertical-align: middle;\n",
       "    }\n",
       "\n",
       "    .dataframe tbody tr th {\n",
       "        vertical-align: top;\n",
       "    }\n",
       "\n",
       "    .dataframe thead th {\n",
       "        text-align: right;\n",
       "    }\n",
       "</style>\n",
       "<table border=\"1\" class=\"dataframe\">\n",
       "  <thead>\n",
       "    <tr style=\"text-align: right;\">\n",
       "      <th></th>\n",
       "      <th>mean</th>\n",
       "      <th>max</th>\n",
       "    </tr>\n",
       "    <tr>\n",
       "      <th>gender</th>\n",
       "      <th></th>\n",
       "      <th></th>\n",
       "    </tr>\n",
       "  </thead>\n",
       "  <tbody>\n",
       "    <tr>\n",
       "      <th>F</th>\n",
       "      <td>66.75</td>\n",
       "      <td>90</td>\n",
       "    </tr>\n",
       "    <tr>\n",
       "      <th>M</th>\n",
       "      <td>64.00</td>\n",
       "      <td>82</td>\n",
       "    </tr>\n",
       "  </tbody>\n",
       "</table>\n",
       "</div>"
      ],
      "text/plain": [
       "         mean  max\n",
       "gender            \n",
       "F       66.75   90\n",
       "M       64.00   82"
      ]
     },
     "execution_count": 43,
     "metadata": {},
     "output_type": "execute_result"
    }
   ],
   "source": [
    "# multiple aggregations.\n",
    "aggs = df.groupby('gender')['scores'].agg(['mean', 'max'])\n",
    "aggs"
   ]
  },
  {
   "cell_type": "code",
   "execution_count": 45,
   "id": "91ae7604-acab-4649-873f-1683b08a1406",
   "metadata": {},
   "outputs": [
    {
     "data": {
      "text/html": [
       "<div>\n",
       "<style scoped>\n",
       "    .dataframe tbody tr th:only-of-type {\n",
       "        vertical-align: middle;\n",
       "    }\n",
       "\n",
       "    .dataframe tbody tr th {\n",
       "        vertical-align: top;\n",
       "    }\n",
       "\n",
       "    .dataframe thead th {\n",
       "        text-align: right;\n",
       "    }\n",
       "</style>\n",
       "<table border=\"1\" class=\"dataframe\">\n",
       "  <thead>\n",
       "    <tr style=\"text-align: right;\">\n",
       "      <th></th>\n",
       "      <th>mean</th>\n",
       "      <th>max</th>\n",
       "      <th>min</th>\n",
       "      <th>std</th>\n",
       "      <th>median</th>\n",
       "    </tr>\n",
       "    <tr>\n",
       "      <th>gender</th>\n",
       "      <th></th>\n",
       "      <th></th>\n",
       "      <th></th>\n",
       "      <th></th>\n",
       "      <th></th>\n",
       "    </tr>\n",
       "  </thead>\n",
       "  <tbody>\n",
       "    <tr>\n",
       "      <th>F</th>\n",
       "      <td>66.75</td>\n",
       "      <td>90</td>\n",
       "      <td>54</td>\n",
       "      <td>15.945219</td>\n",
       "      <td>61.5</td>\n",
       "    </tr>\n",
       "    <tr>\n",
       "      <th>M</th>\n",
       "      <td>64.00</td>\n",
       "      <td>82</td>\n",
       "      <td>40</td>\n",
       "      <td>21.633308</td>\n",
       "      <td>70.0</td>\n",
       "    </tr>\n",
       "  </tbody>\n",
       "</table>\n",
       "</div>"
      ],
      "text/plain": [
       "         mean  max  min        std  median\n",
       "gender                                    \n",
       "F       66.75   90   54  15.945219    61.5\n",
       "M       64.00   82   40  21.633308    70.0"
      ]
     },
     "execution_count": 45,
     "metadata": {},
     "output_type": "execute_result"
    }
   ],
   "source": [
    "# multiple aggregations.\n",
    "aggs = df.groupby('gender')['scores'].agg(['mean', 'max', 'min', 'std', 'median'])\n",
    "aggs"
   ]
  },
  {
   "cell_type": "code",
   "execution_count": 47,
   "id": "987388b3-f7b3-4200-af5e-c8c669a2dc4d",
   "metadata": {},
   "outputs": [
    {
     "data": {
      "text/plain": [
       "<pandas.core.groupby.generic.DataFrameGroupBy object at 0x00000136BD4F7510>"
      ]
     },
     "execution_count": 47,
     "metadata": {},
     "output_type": "execute_result"
    }
   ],
   "source": [
    "gender_group"
   ]
  },
  {
   "cell_type": "code",
   "execution_count": 49,
   "id": "3b41c343-d7e4-4a38-8bc3-5107554e3ed8",
   "metadata": {},
   "outputs": [
    {
     "data": {
      "text/plain": [
       "gender  grades\n",
       "F       B         2\n",
       "        A         1\n",
       "        C         1\n",
       "M       A         2\n",
       "        E         1\n",
       "Name: count, dtype: int64"
      ]
     },
     "execution_count": 49,
     "metadata": {},
     "output_type": "execute_result"
    }
   ],
   "source": [
    "gender_group['grades'].value_counts()"
   ]
  },
  {
   "cell_type": "code",
   "execution_count": 51,
   "id": "7de5f184-f556-4a18-a231-e9723381d7f0",
   "metadata": {},
   "outputs": [
    {
     "data": {
      "text/html": [
       "<div>\n",
       "<style scoped>\n",
       "    .dataframe tbody tr th:only-of-type {\n",
       "        vertical-align: middle;\n",
       "    }\n",
       "\n",
       "    .dataframe tbody tr th {\n",
       "        vertical-align: top;\n",
       "    }\n",
       "\n",
       "    .dataframe thead th {\n",
       "        text-align: right;\n",
       "    }\n",
       "</style>\n",
       "<table border=\"1\" class=\"dataframe\">\n",
       "  <thead>\n",
       "    <tr style=\"text-align: right;\">\n",
       "      <th></th>\n",
       "      <th>names</th>\n",
       "      <th>scores</th>\n",
       "      <th>grades</th>\n",
       "      <th>gender</th>\n",
       "      <th>emails</th>\n",
       "    </tr>\n",
       "  </thead>\n",
       "  <tbody>\n",
       "    <tr>\n",
       "      <th>0</th>\n",
       "      <td>Tola</td>\n",
       "      <td>40</td>\n",
       "      <td>E</td>\n",
       "      <td>M</td>\n",
       "      <td>tola@gmail.com</td>\n",
       "    </tr>\n",
       "    <tr>\n",
       "      <th>1</th>\n",
       "      <td>Tosin</td>\n",
       "      <td>60</td>\n",
       "      <td>B</td>\n",
       "      <td>F</td>\n",
       "      <td>tosin@gmail.com</td>\n",
       "    </tr>\n",
       "    <tr>\n",
       "      <th>2</th>\n",
       "      <td>Tobi</td>\n",
       "      <td>70</td>\n",
       "      <td>A</td>\n",
       "      <td>M</td>\n",
       "      <td>tobi@gmail.com</td>\n",
       "    </tr>\n",
       "    <tr>\n",
       "      <th>3</th>\n",
       "      <td>Titi</td>\n",
       "      <td>54</td>\n",
       "      <td>C</td>\n",
       "      <td>F</td>\n",
       "      <td>titi@gmail.com</td>\n",
       "    </tr>\n",
       "    <tr>\n",
       "      <th>4</th>\n",
       "      <td>Tayo</td>\n",
       "      <td>90</td>\n",
       "      <td>A</td>\n",
       "      <td>F</td>\n",
       "      <td>tayo@gmail.com</td>\n",
       "    </tr>\n",
       "    <tr>\n",
       "      <th>5</th>\n",
       "      <td>Tolu</td>\n",
       "      <td>63</td>\n",
       "      <td>B</td>\n",
       "      <td>F</td>\n",
       "      <td>tolu@gmail.com</td>\n",
       "    </tr>\n",
       "    <tr>\n",
       "      <th>6</th>\n",
       "      <td>Tom</td>\n",
       "      <td>82</td>\n",
       "      <td>A</td>\n",
       "      <td>M</td>\n",
       "      <td>tom@gmail.com</td>\n",
       "    </tr>\n",
       "  </tbody>\n",
       "</table>\n",
       "</div>"
      ],
      "text/plain": [
       "   names  scores grades gender           emails\n",
       "0   Tola      40      E      M   tola@gmail.com\n",
       "1  Tosin      60      B      F  tosin@gmail.com\n",
       "2   Tobi      70      A      M   tobi@gmail.com\n",
       "3   Titi      54      C      F   titi@gmail.com\n",
       "4   Tayo      90      A      F   tayo@gmail.com\n",
       "5   Tolu      63      B      F   tolu@gmail.com\n",
       "6    Tom      82      A      M    tom@gmail.com"
      ]
     },
     "execution_count": 51,
     "metadata": {},
     "output_type": "execute_result"
    }
   ],
   "source": [
    "df"
   ]
  },
  {
   "cell_type": "code",
   "execution_count": 53,
   "id": "03ed70de-8418-48f3-8b04-dae4a42ea338",
   "metadata": {},
   "outputs": [
    {
     "data": {
      "text/plain": [
       "grades\n",
       "A    3\n",
       "B    2\n",
       "E    1\n",
       "C    1\n",
       "Name: count, dtype: int64"
      ]
     },
     "execution_count": 53,
     "metadata": {},
     "output_type": "execute_result"
    }
   ],
   "source": [
    "df['grades'].value_counts()"
   ]
  },
  {
   "cell_type": "code",
   "execution_count": 57,
   "id": "1e7541d5-62ae-422d-b953-a8ad76ddbf68",
   "metadata": {},
   "outputs": [
    {
     "data": {
      "text/plain": [
       "gender   \n",
       "F       4    90\n",
       "M       6    82\n",
       "Name: scores, dtype: int64"
      ]
     },
     "execution_count": 57,
     "metadata": {},
     "output_type": "execute_result"
    }
   ],
   "source": [
    "# nlargest() method - the largest value in each group\n",
    "gender_group['scores'].nlargest(1)"
   ]
  },
  {
   "cell_type": "code",
   "execution_count": 59,
   "id": "fe89256f-fe99-45c9-9284-e088722c54c8",
   "metadata": {},
   "outputs": [
    {
     "data": {
      "text/plain": [
       "gender   \n",
       "F       4    90\n",
       "        5    63\n",
       "M       6    82\n",
       "        2    70\n",
       "Name: scores, dtype: int64"
      ]
     },
     "execution_count": 59,
     "metadata": {},
     "output_type": "execute_result"
    }
   ],
   "source": [
    "# nlargest() method - the largest 2 values in each group.\n",
    "gender_group['scores'].nlargest(2)"
   ]
  },
  {
   "cell_type": "code",
   "execution_count": null,
   "id": "73806cd0-1974-4f66-8aa6-1a3d030802cd",
   "metadata": {},
   "outputs": [],
   "source": []
  }
 ],
 "metadata": {
  "kernelspec": {
   "display_name": "Python 3 (ipykernel)",
   "language": "python",
   "name": "python3"
  },
  "language_info": {
   "codemirror_mode": {
    "name": "ipython",
    "version": 3
   },
   "file_extension": ".py",
   "mimetype": "text/x-python",
   "name": "python",
   "nbconvert_exporter": "python",
   "pygments_lexer": "ipython3",
   "version": "3.12.4"
  }
 },
 "nbformat": 4,
 "nbformat_minor": 5
}
