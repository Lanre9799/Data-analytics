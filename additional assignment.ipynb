{
 "cells": [
  {
   "cell_type": "code",
   "execution_count": null,
   "id": "5b965023-cdcc-4d5c-9527-186db85351bc",
   "metadata": {},
   "outputs": [],
   "source": [
    "#1\n",
    "\"\"\"\n",
    "Write a Python program that accepts a sequence of comma-separated\n",
    "numbers from the user and generates a list and a tuple of those\n",
    "numbers. Use the input() function to accept input from a user.\n",
    "Sample data : 3, 5, 7, 23\n",
    "Output :\n",
    "List : ['3', ' 5', ' 7', ' 23']\n",
    "Tuple : ('3', ' 5', ' 7', ' 23')\n",
    "\"\"\"\n"
   ]
  },
  {
   "cell_type": "code",
   "execution_count": 2,
   "id": "72eade3e-b043-4b4b-baf0-a3d0b2fa16e5",
   "metadata": {},
   "outputs": [
    {
     "name": "stdin",
     "output_type": "stream",
     "text": [
      "Enter a sequence of comma-separated numbers:  3, 5, 7, 23\n"
     ]
    },
    {
     "name": "stdout",
     "output_type": "stream",
     "text": [
      "List: ['3', ' 5', ' 7', ' 23']\n",
      "Tuple: ('3', ' 5', ' 7', ' 23')\n"
     ]
    }
   ],
   "source": [
    "input_numbers = input(\"Enter a sequence of comma-separated numbers: \")\n",
    "\n",
    "# Generate a list from the input\n",
    "numbers_list = input_numbers.split(',')\n",
    "\n",
    "# Generate a tuple from the list\n",
    "numbers_tuple = tuple(numbers_list)\n",
    "\n",
    "# Output the results\n",
    "print(\"List:\", numbers_list)\n",
    "print(\"Tuple:\", numbers_tuple)"
   ]
  },
  {
   "cell_type": "code",
   "execution_count": 21,
   "id": "748e6f2b-db91-47ce-8b8d-64c3ea941a69",
   "metadata": {},
   "outputs": [
    {
     "name": "stdin",
     "output_type": "stream",
     "text": [
      "Enter an integer:  5\n"
     ]
    },
    {
     "name": "stdout",
     "output_type": "stream",
     "text": [
      "Expected Result: 615\n"
     ]
    }
   ],
   "source": [
    "#2\n",
    "\"\"\"\n",
    "Write a Python program that accepts an integer (n) and computes the\n",
    "value of n+nn+nnn.\n",
    "Sample value of n is 5\n",
    "Expected Result : 615 (5 + 55 + 555)\n",
    "Hint: use int() function to convert a string to integer. Values received\n",
    "using the input() function are strings by default.\n",
    "\"\"\"\n",
    "# Accept an integer input from the user\n",
    "n = input(\"Enter an integer: \")\n",
    "\n",
    "# Compute the values of nn and nnn\n",
    "nn = n * 2  # This creates the string representation of nn (e.g., '55')\n",
    "nnn = n * 3  # This creates the string representation of nnn (e.g., '555')\n",
    "\n",
    "# Convert the strings to integers and calculate the result\n",
    "result = int(n) + int(nn) + int(nnn)\n",
    "\n",
    "# Output the expected result\n",
    "print(\"Expected Result:\", result)\n",
    "\n"
   ]
  },
  {
   "cell_type": "code",
   "execution_count": 4,
   "id": "597c601e-e88a-4c54-a553-c09f232013b8",
   "metadata": {},
   "outputs": [
    {
     "name": "stdin",
     "output_type": "stream",
     "text": [
      "Enter a number to test:  900\n"
     ]
    },
    {
     "name": "stdout",
     "output_type": "stream",
     "text": [
      "900 is within 100 of 1000 or 2000.\n"
     ]
    }
   ],
   "source": [
    "#3\n",
    "\"\"\"\n",
    "Write a Python program to test whether a number is within 100 of 1000\n",
    "or 2000.\n",
    "\"\"\"\n",
    "def is_within_100_of_1000_or_2000(num):\n",
    "    return (abs(num - 1000) <= 100) or (abs(num - 2000) <= 100)\n",
    "\n",
    "# Test the function\n",
    "number = int(input(\"Enter a number to test: \"))\n",
    "if is_within_100_of_1000_or_2000(number):\n",
    "    print(f\"{number} is within 100 of 1000 or 2000.\")\n",
    "else:\n",
    "    print(f\"{number} is not within 100 of 1000 or 2000.\")"
   ]
  },
  {
   "cell_type": "code",
   "execution_count": 14,
   "id": "322fed29-abf9-4155-944f-ad9be9d57cdc",
   "metadata": {},
   "outputs": [
    {
     "name": "stdout",
     "output_type": "stream",
     "text": [
      "3000 is not within 100 of 1000 or 2000\n"
     ]
    }
   ],
   "source": [
    "def is_within_100_of_1000_or_2000(num):\n",
    "    if (abs(num - 1000) <= 100) or (abs(num - 2000) <= 100):\n",
    "        print(num,'is within 100 of 1000 or 2000')\n",
    "    else:\n",
    "        print(num,'is not within 100 of 1000 or 2000')\n",
    "\n"
   ]
  },
  {
   "cell_type": "code",
   "execution_count": 26,
   "id": "e5c33d6d-bd3e-4f67-90e4-9819c991dced",
   "metadata": {},
   "outputs": [
    {
     "name": "stdout",
     "output_type": "stream",
     "text": [
      "2\n",
      "4\n",
      "6\n"
     ]
    }
   ],
   "source": [
    "#4\n",
    "\"\"\"\n",
    "Write a Python program to print all even numbers from a given list of\n",
    "numbers in the same order and stop printing any after 237 in the\n",
    "sequence.\n",
    "\"\"\"\n",
    "def print_even_numbers_until_237(numbers):\n",
    "    for num in numbers:\n",
    "        if num >= 237:\n",
    "            break\n",
    "        if num % 2 == 0:\n",
    "            print(num)\n",
    "numbers = [1, 2, 3, 4, 5, 6, 238]\n",
    "print_even_numbers_until_237(numbers)"
   ]
  },
  {
   "cell_type": "code",
   "execution_count": null,
   "id": "37bff109-1279-44cf-a662-705961be0f50",
   "metadata": {},
   "outputs": [],
   "source": [
    "#5\n",
    "\"\"\"\n",
    "Write a Python program to solve (x + y) * (x + y).\n",
    "Test Data : x = 4, y = 3\n",
    "Expected Output : (4 + 3) ^ 2) = 49\n",
    "\"\"\"\n",
    "def calculate_expression(x, y):\n",
    "    result = (x + y) ** 2\n",
    "    return result\n",
    "\n",
    "# Input values for x and y\n",
    "x = float(input(\"Enter the value of x: \"))\n",
    "y = float(input(\"Enter the value of y: \"))\n",
    "\n",
    "# Calculate and print the result\n",
    "result = calculate_expression(x, y)\n",
    "print(f\"The result of (x + y) * (x + y) is: {result}\")"
   ]
  }
 ],
 "metadata": {
  "kernelspec": {
   "display_name": "Python 3 (ipykernel)",
   "language": "python",
   "name": "python3"
  },
  "language_info": {
   "codemirror_mode": {
    "name": "ipython",
    "version": 3
   },
   "file_extension": ".py",
   "mimetype": "text/x-python",
   "name": "python",
   "nbconvert_exporter": "python",
   "pygments_lexer": "ipython3",
   "version": "3.12.4"
  }
 },
 "nbformat": 4,
 "nbformat_minor": 5
}
