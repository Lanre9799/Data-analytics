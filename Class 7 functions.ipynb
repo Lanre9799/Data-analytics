{
 "cells": [
  {
   "cell_type": "code",
   "execution_count": 3,
   "id": "382883f6-528e-4327-b754-32f8fb4c2d7d",
   "metadata": {},
   "outputs": [
    {
     "data": {
      "text/plain": [
       "25"
      ]
     },
     "execution_count": 3,
     "metadata": {},
     "output_type": "execute_result"
    }
   ],
   "source": [
    "def square(num):\n",
    "    result = num ** 2\n",
    "    return result\n",
    "\n",
    "square(5)"
   ]
  },
  {
   "cell_type": "code",
   "execution_count": 7,
   "id": "9af44e2d-b7cc-4c4d-862e-e9ef236eb30f",
   "metadata": {},
   "outputs": [
    {
     "data": {
      "text/plain": [
       "49"
      ]
     },
     "execution_count": 7,
     "metadata": {},
     "output_type": "execute_result"
    }
   ],
   "source": [
    "def square(num): return num**2\n",
    "square(7)"
   ]
  },
  {
   "cell_type": "code",
   "execution_count": 9,
   "id": "8093af17-04ad-44cf-b0c1-8f146ac1cdb4",
   "metadata": {},
   "outputs": [
    {
     "data": {
      "text/plain": [
       "9"
      ]
     },
     "execution_count": 9,
     "metadata": {},
     "output_type": "execute_result"
    }
   ],
   "source": [
    "square = lambda num: num ** 2\n",
    "square(3)"
   ]
  },
  {
   "cell_type": "code",
   "execution_count": 11,
   "id": "200b8b71-7a50-41d3-b00d-6b408b829dac",
   "metadata": {},
   "outputs": [
    {
     "name": "stdout",
     "output_type": "stream",
     "text": [
      "[0, 1, 2, 3, 4, 5]\n",
      "[0, 1, 4, 9, 16, 25]\n"
     ]
    }
   ],
   "source": [
    "# lambda is used for anonymous functions.\n",
    "# functions without def keyword and return statements\n",
    "\n",
    "mynums = list(range(6))\n",
    "print(mynums)\n",
    "\n",
    "def square(num):\n",
    "    return num ** 2\n",
    "\n",
    "square_nums = map(square, mynums)\n",
    "square_nums = list(square_nums)\n",
    "\n",
    "print(square_nums)"
   ]
  },
  {
   "cell_type": "code",
   "execution_count": 13,
   "id": "df75cca0-c046-4a36-854e-f71829170f20",
   "metadata": {},
   "outputs": [
    {
     "data": {
      "text/plain": [
       "[0, 11, 4, 13, 16, 15]"
      ]
     },
     "execution_count": 13,
     "metadata": {},
     "output_type": "execute_result"
    }
   ],
   "source": [
    "mynums = list(range(6))\n",
    "list(map(lambda num: num ** 2 if num % 2 == 0 else num + 10, mynums))"
   ]
  },
  {
   "cell_type": "code",
   "execution_count": 21,
   "id": "8b8c3cf8-9d42-4ac4-a258-5cae855595e3",
   "metadata": {},
   "outputs": [
    {
     "data": {
      "text/plain": [
       "5.5"
      ]
     },
     "execution_count": 21,
     "metadata": {},
     "output_type": "execute_result"
    }
   ],
   "source": [
    "# args and kwargs\n",
    "\n",
    "def myfunc(a, b):\n",
    "    return sum((a, b)) * 0.05\n",
    "\n",
    "myfunc(50, 60)"
   ]
  },
  {
   "cell_type": "code",
   "execution_count": 23,
   "id": "0ba5cb2c-a88e-43ef-98a8-d18d4665134b",
   "metadata": {},
   "outputs": [
    {
     "data": {
      "text/plain": [
       "5.5"
      ]
     },
     "execution_count": 23,
     "metadata": {},
     "output_type": "execute_result"
    }
   ],
   "source": [
    "mf = lambda a, b: sum((a, b)) * 0.05\n",
    "mf(50, 60)"
   ]
  },
  {
   "cell_type": "code",
   "execution_count": 25,
   "id": "970386da-6d1c-42d6-9a6c-4e04afdae064",
   "metadata": {},
   "outputs": [
    {
     "data": {
      "text/plain": [
       "5.0"
      ]
     },
     "execution_count": 25,
     "metadata": {},
     "output_type": "execute_result"
    }
   ],
   "source": [
    "# args and kwargs\n",
    "\n",
    "def myfunc(a, b):\n",
    "    return sum((a, b)) * 0.05\n",
    "\n",
    "myfunc(50, 50)\n"
   ]
  },
  {
   "cell_type": "code",
   "execution_count": 27,
   "id": "0afbf5fd-530e-46cb-b5ca-f5832e412b60",
   "metadata": {},
   "outputs": [
    {
     "data": {
      "text/plain": [
       "10.0"
      ]
     },
     "execution_count": 27,
     "metadata": {},
     "output_type": "execute_result"
    }
   ],
   "source": [
    "# args and kwargs\n",
    "\n",
    "def myfunc(a, b, c):\n",
    "    return sum((a, b, c)) * 0.05\n",
    "\n",
    "myfunc(50, 50, 100)\n"
   ]
  },
  {
   "cell_type": "code",
   "execution_count": 29,
   "id": "1edfe319-27d9-4b58-a396-da45f327bf61",
   "metadata": {},
   "outputs": [
    {
     "ename": "SyntaxError",
     "evalue": "invalid syntax (1835643272.py, line 2)",
     "output_type": "error",
     "traceback": [
      "\u001b[1;36m  Cell \u001b[1;32mIn[29], line 2\u001b[1;36m\u001b[0m\n\u001b[1;33m    def myfunc(a, b, c, d, e, f, g...)\u001b[0m\n\u001b[1;37m                                  ^\u001b[0m\n\u001b[1;31mSyntaxError\u001b[0m\u001b[1;31m:\u001b[0m invalid syntax\n"
     ]
    }
   ],
   "source": [
    "# what if myfunc had to work with 20 parameters?\n",
    "def myfunc(a, b, c, d, e, f, g...)"
   ]
  },
  {
   "cell_type": "code",
   "execution_count": 31,
   "id": "1f89a5e1-6d34-46f0-a058-0fc03620c4c4",
   "metadata": {},
   "outputs": [
    {
     "data": {
      "text/plain": [
       "0.0"
      ]
     },
     "execution_count": 31,
     "metadata": {},
     "output_type": "execute_result"
    }
   ],
   "source": [
    "def myfunc(*args):\n",
    "    return sum((args)) * 0.05\n",
    "# * represents 0 or more positional parameters\n",
    "# args are handled as tuples\n",
    "myfunc()"
   ]
  },
  {
   "cell_type": "code",
   "execution_count": 33,
   "id": "b23382b6-e6af-4247-a062-717e4ef4016e",
   "metadata": {},
   "outputs": [
    {
     "data": {
      "text/plain": [
       "16.35"
      ]
     },
     "execution_count": 33,
     "metadata": {},
     "output_type": "execute_result"
    }
   ],
   "source": [
    "myfunc(10, 10, 10, 44, 80, 89, 4, 80)"
   ]
  },
  {
   "cell_type": "code",
   "execution_count": 35,
   "id": "5c8ca1a5-89af-4e30-b549-fb0961298cff",
   "metadata": {},
   "outputs": [
    {
     "name": "stdout",
     "output_type": "stream",
     "text": [
      "<class 'tuple'>\n"
     ]
    },
    {
     "data": {
      "text/plain": [
       "0.0"
      ]
     },
     "execution_count": 35,
     "metadata": {},
     "output_type": "execute_result"
    }
   ],
   "source": [
    "def myfunc(*nums):\n",
    "    print(type(nums))\n",
    "    return sum((nums)) * 0.05\n",
    "\n",
    "# * represent 0 or more positional parameters\n",
    "myfunc()"
   ]
  },
  {
   "cell_type": "code",
   "execution_count": 37,
   "id": "4f909cea-2fab-4895-a959-c4e5c4d634cd",
   "metadata": {},
   "outputs": [
    {
     "name": "stdout",
     "output_type": "stream",
     "text": [
      "<class 'tuple'>\n"
     ]
    },
    {
     "data": {
      "text/plain": [
       "16.35"
      ]
     },
     "execution_count": 37,
     "metadata": {},
     "output_type": "execute_result"
    }
   ],
   "source": [
    "myfunc(10, 10, 10, 44, 80, 89, 4, 80)"
   ]
  },
  {
   "cell_type": "code",
   "execution_count": 39,
   "id": "cb0f0ca6-f5aa-4bfc-a34d-20b7717aff43",
   "metadata": {},
   "outputs": [
    {
     "name": "stdout",
     "output_type": "stream",
     "text": [
      "<class 'tuple'>\n"
     ]
    },
    {
     "ename": "TypeError",
     "evalue": "unsupported operand type(s) for +: 'int' and 'str'",
     "output_type": "error",
     "traceback": [
      "\u001b[1;31m---------------------------------------------------------------------------\u001b[0m",
      "\u001b[1;31mTypeError\u001b[0m                                 Traceback (most recent call last)",
      "Cell \u001b[1;32mIn[39], line 1\u001b[0m\n\u001b[1;32m----> 1\u001b[0m myfunc(\u001b[38;5;124m'\u001b[39m\u001b[38;5;124mhello\u001b[39m\u001b[38;5;124m'\u001b[39m, \u001b[38;5;124m'\u001b[39m\u001b[38;5;124mshy\u001b[39m\u001b[38;5;124m'\u001b[39m, \u001b[38;5;241m45\u001b[39m)\n",
      "Cell \u001b[1;32mIn[35], line 3\u001b[0m, in \u001b[0;36mmyfunc\u001b[1;34m(*nums)\u001b[0m\n\u001b[0;32m      1\u001b[0m \u001b[38;5;28;01mdef\u001b[39;00m \u001b[38;5;21mmyfunc\u001b[39m(\u001b[38;5;241m*\u001b[39mnums):\n\u001b[0;32m      2\u001b[0m     \u001b[38;5;28mprint\u001b[39m(\u001b[38;5;28mtype\u001b[39m(nums))\n\u001b[1;32m----> 3\u001b[0m     \u001b[38;5;28;01mreturn\u001b[39;00m \u001b[38;5;28msum\u001b[39m((nums)) \u001b[38;5;241m*\u001b[39m \u001b[38;5;241m0.05\u001b[39m\n",
      "\u001b[1;31mTypeError\u001b[0m: unsupported operand type(s) for +: 'int' and 'str'"
     ]
    }
   ],
   "source": [
    "myfunc('hello', 'shy', 45)"
   ]
  },
  {
   "cell_type": "code",
   "execution_count": 41,
   "id": "be12af04-cddc-4ddb-aa76-efac0c47a093",
   "metadata": {},
   "outputs": [
    {
     "name": "stdout",
     "output_type": "stream",
     "text": [
      "hello\n",
      "shy\n"
     ]
    }
   ],
   "source": [
    "def myfunc(*nums):\n",
    "    #print(type(nums))\n",
    "    #print(nums)\n",
    "    for n in nums:\n",
    "        if isinstance(n, str):\n",
    "            print(n)\n",
    "\n",
    "# * represents 0 or more positional parameters\n",
    "myfunc('hello', 'shy', 45)"
   ]
  },
  {
   "cell_type": "code",
   "execution_count": 45,
   "id": "f3759e97-13a4-4629-8ebb-2e4579546204",
   "metadata": {},
   "outputs": [
    {
     "data": {
      "text/plain": [
       "300"
      ]
     },
     "execution_count": 45,
     "metadata": {},
     "output_type": "execute_result"
    }
   ],
   "source": [
    "def newfunc(a,b,c = 100):\n",
    "    return a + b + c\n",
    "\n",
    "newfunc(50, 50, 200)"
   ]
  },
  {
   "cell_type": "code",
   "execution_count": 47,
   "id": "40d52f39-2c76-47e4-b057-0bf72f2fa900",
   "metadata": {},
   "outputs": [
    {
     "data": {
      "text/plain": [
       "200"
      ]
     },
     "execution_count": 47,
     "metadata": {},
     "output_type": "execute_result"
    }
   ],
   "source": [
    "newfunc(50, 50)"
   ]
  },
  {
   "cell_type": "code",
   "execution_count": 51,
   "id": "8ee5c46d-407f-45b9-8f89-224121ee081c",
   "metadata": {},
   "outputs": [
    {
     "name": "stdout",
     "output_type": "stream",
     "text": [
      "<class 'dict'>\n",
      "{'a': 10, 'b': 20, 'c': 30}\n"
     ]
    }
   ],
   "source": [
    "# **kwargs\n",
    "# Kwargs are handled like dictionaries\n",
    "def test_function(**kwargs):\n",
    "    print(type(kwargs))\n",
    "    print(kwargs)\n",
    "\n",
    "test_function(a = 10, b = 20, c = 30)"
   ]
  },
  {
   "cell_type": "code",
   "execution_count": 53,
   "id": "6801a2e4-11f6-44d5-8ff1-0bea857e11b0",
   "metadata": {},
   "outputs": [
    {
     "name": "stdout",
     "output_type": "stream",
     "text": [
      "<class 'dict'>\n",
      "{}\n"
     ]
    }
   ],
   "source": [
    "test_function()"
   ]
  },
  {
   "cell_type": "code",
   "execution_count": 59,
   "id": "a8940dc9-c409-407e-8e55-1d8d915a46da",
   "metadata": {},
   "outputs": [
    {
     "name": "stdout",
     "output_type": "stream",
     "text": [
      "10\n"
     ]
    }
   ],
   "source": [
    "def test_function(**kwargs):\n",
    "    #print(type(kwargs))\n",
    "    #print(kwargs)\n",
    "    if 'a' in kwargs:\n",
    "        print(kwargs['a'])\n",
    "\n",
    "test_function(a = 10, b = 20, c = 30)"
   ]
  },
  {
   "cell_type": "code",
   "execution_count": 61,
   "id": "12b27ce5-1186-40ef-ab32-cd00150fa95a",
   "metadata": {},
   "outputs": [
    {
     "name": "stdout",
     "output_type": "stream",
     "text": [
      "(1, 2, 3) {'a': 10, 'b': 45, 'c': 78}\n"
     ]
    }
   ],
   "source": [
    "# combining args and kwargs\n",
    "# args most always come before kwargs\n",
    "def test_function2(*args, **kwargs):\n",
    "    print(args, kwargs)\n",
    "\n",
    "test_function2(1,2,3, a = 10, b = 45, c = 78)"
   ]
  },
  {
   "cell_type": "code",
   "execution_count": null,
   "id": "ede67049-67df-4e05-92f0-668a3ad28f79",
   "metadata": {},
   "outputs": [],
   "source": []
  }
 ],
 "metadata": {
  "kernelspec": {
   "display_name": "Python 3 (ipykernel)",
   "language": "python",
   "name": "python3"
  },
  "language_info": {
   "codemirror_mode": {
    "name": "ipython",
    "version": 3
   },
   "file_extension": ".py",
   "mimetype": "text/x-python",
   "name": "python",
   "nbconvert_exporter": "python",
   "pygments_lexer": "ipython3",
   "version": "3.12.4"
  }
 },
 "nbformat": 4,
 "nbformat_minor": 5
}
